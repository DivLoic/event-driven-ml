{
 "cells": [
  {
   "cell_type": "markdown",
   "metadata": {},
   "source": [
    "# Easy exploration"
   ]
  },
  {
   "cell_type": "code",
   "execution_count": 1,
   "metadata": {},
   "outputs": [],
   "source": [
    "from google.cloud import bigquery as bq"
   ]
  },
  {
   "cell_type": "code",
   "execution_count": 2,
   "metadata": {},
   "outputs": [],
   "source": [
    "bq_client = bq.Client()"
   ]
  },
  {
   "cell_type": "markdown",
   "metadata": {},
   "source": [
    "### Read sample data from bigquery"
   ]
  },
  {
   "cell_type": "markdown",
   "metadata": {},
   "source": [
    "#### NYC yellow taxi trips 2018"
   ]
  },
  {
   "cell_type": "code",
   "execution_count": 5,
   "metadata": {},
   "outputs": [],
   "source": [
    "sql = \"\"\"\n",
    "SELECT * FROM `bigquery-public-data.new_york_taxi_trips.tlc_yellow_trips_2018` LIMIT 100\n",
    "\"\"\""
   ]
  },
  {
   "cell_type": "code",
   "execution_count": 6,
   "metadata": {},
   "outputs": [],
   "source": [
    "yellow_2018_df = bq_client.query(sql).to_dataframe()"
   ]
  },
  {
   "cell_type": "code",
   "execution_count": 7,
   "metadata": {},
   "outputs": [
    {
     "data": {
      "text/plain": [
       "vendor_id              100\n",
       "pickup_datetime        100\n",
       "dropoff_datetime       100\n",
       "passenger_count        100\n",
       "trip_distance          100\n",
       "rate_code              100\n",
       "store_and_fwd_flag     100\n",
       "payment_type           100\n",
       "fare_amount            100\n",
       "extra                  100\n",
       "mta_tax                100\n",
       "tip_amount             100\n",
       "tolls_amount           100\n",
       "imp_surcharge          100\n",
       "total_amount           100\n",
       "pickup_location_id     100\n",
       "dropoff_location_id    100\n",
       "dtype: int64"
      ]
     },
     "execution_count": 7,
     "metadata": {},
     "output_type": "execute_result"
    }
   ],
   "source": [
    "yellow_2018_df.count()"
   ]
  },
  {
   "cell_type": "markdown",
   "metadata": {},
   "source": [
    "#### NYC yellow taxi trips 2017"
   ]
  },
  {
   "cell_type": "code",
   "execution_count": 3,
   "metadata": {},
   "outputs": [],
   "source": [
    "sql = \"\"\"\n",
    "SELECT * FROM `bigquery-public-data.new_york_taxi_trips.tlc_yellow_trips_2017` WHERE trip_distance > 0.0 LIMIT 100\n",
    "\"\"\""
   ]
  },
  {
   "cell_type": "code",
   "execution_count": 4,
   "metadata": {},
   "outputs": [],
   "source": [
    "yellow_2017_df = bq_client.query(sql).to_dataframe()"
   ]
  },
  {
   "cell_type": "code",
   "execution_count": 5,
   "metadata": {},
   "outputs": [
    {
     "data": {
      "text/plain": [
       "vendor_id              0\n",
       "pickup_datetime        0\n",
       "dropoff_datetime       0\n",
       "passenger_count        0\n",
       "trip_distance          0\n",
       "pickup_longitude       0\n",
       "pickup_latitude        0\n",
       "rate_code              0\n",
       "store_and_fwd_flag     0\n",
       "dropoff_longitude      0\n",
       "dropoff_latitude       0\n",
       "payment_type           0\n",
       "fare_amount            0\n",
       "extra                  0\n",
       "mta_tax                0\n",
       "tip_amount             0\n",
       "tolls_amount           0\n",
       "imp_surcharge          0\n",
       "total_amount           0\n",
       "pickup_location_id     0\n",
       "dropoff_location_id    0\n",
       "dtype: int64"
      ]
     },
     "execution_count": 5,
     "metadata": {},
     "output_type": "execute_result"
    }
   ],
   "source": [
    "yellow_2017_df.count()"
   ]
  },
  {
   "cell_type": "markdown",
   "metadata": {},
   "source": [
    "### Accidents"
   ]
  },
  {
   "cell_type": "code",
   "execution_count": 6,
   "metadata": {},
   "outputs": [],
   "source": [
    "sql = \"\"\"\n",
    "SELECT * FROM `bigquery-public-data.new_york_mv_collisions.nypd_mv_collisions` LIMIT 100\n",
    "\"\"\""
   ]
  },
  {
   "cell_type": "code",
   "execution_count": 9,
   "metadata": {},
   "outputs": [],
   "source": [
    "collisions_df = bq_client.query(sql).to_dataframe()"
   ]
  },
  {
   "cell_type": "code",
   "execution_count": 10,
   "metadata": {},
   "outputs": [
    {
     "data": {
      "text/plain": [
       "borough                          100\n",
       "contributing_factor_vehicle_1    100\n",
       "contributing_factor_vehicle_2    100\n",
       "contributing_factor_vehicle_3      2\n",
       "contributing_factor_vehicle_4      1\n",
       "contributing_factor_vehicle_5      0\n",
       "cross_street_name                 63\n",
       "timestamp                        100\n",
       "latitude                          96\n",
       "longitude                         96\n",
       "location                          96\n",
       "number_of_cyclist_injured        100\n",
       "number_of_cyclist_killed         100\n",
       "number_of_motorist_injured       100\n",
       "number_of_motorist_killed        100\n",
       "number_of_pedestrians_injured    100\n",
       "number_of_pedestrians_killed     100\n",
       "number_of_persons_injured        100\n",
       "number_of_persons_killed         100\n",
       "off_street_name                   37\n",
       "on_street_name                    63\n",
       "unique_key                       100\n",
       "vehicle_type_code1               100\n",
       "vehicle_type_code2               100\n",
       "vehicle_type_code_3                2\n",
       "vehicle_type_code_4                1\n",
       "vehicle_type_code_5                0\n",
       "zip_code                         100\n",
       "dtype: int64"
      ]
     },
     "execution_count": 10,
     "metadata": {},
     "output_type": "execute_result"
    }
   ],
   "source": [
    "collisions_df.count()"
   ]
  },
  {
   "cell_type": "code",
   "execution_count": null,
   "metadata": {},
   "outputs": [],
   "source": []
  }
 ],
 "metadata": {
  "kernelspec": {
   "display_name": "Python 3",
   "language": "python",
   "name": "python3"
  },
  "language_info": {
   "codemirror_mode": {
    "name": "ipython",
    "version": 3
   },
   "file_extension": ".py",
   "mimetype": "text/x-python",
   "name": "python",
   "nbconvert_exporter": "python",
   "pygments_lexer": "ipython3",
   "version": "3.5.3"
  }
 },
 "nbformat": 4,
 "nbformat_minor": 4
}

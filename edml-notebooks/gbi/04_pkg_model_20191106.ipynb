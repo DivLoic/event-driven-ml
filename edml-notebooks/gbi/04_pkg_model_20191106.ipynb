{
 "cells": [
  {
   "cell_type": "code",
   "execution_count": 1,
   "metadata": {},
   "outputs": [],
   "source": [
    "import os"
   ]
  },
  {
   "cell_type": "code",
   "execution_count": 2,
   "metadata": {},
   "outputs": [],
   "source": [
    "BUCKET = 'gs://edml/data/taxi-trips'"
   ]
  },
  {
   "cell_type": "code",
   "execution_count": 3,
   "metadata": {},
   "outputs": [],
   "source": [
    "os.environ['BUCKET'] = BUCKET"
   ]
  },
  {
   "cell_type": "markdown",
   "metadata": {},
   "source": [
    "## Local training / Python"
   ]
  },
  {
   "cell_type": "code",
   "execution_count": 4,
   "metadata": {},
   "outputs": [
    {
     "name": "stdout",
     "output_type": "stream",
     "text": [
      ":/home/jupyter/event-driven-ml/edml-trainer\n"
     ]
    }
   ],
   "source": [
    "%%bash\n",
    "export PYTHONPATH=${PYTHONPATH}:~/event-driven-ml/edml-trainer\n",
    "echo $PYTHONPATH"
   ]
  },
  {
   "cell_type": "code",
   "execution_count": 5,
   "metadata": {
    "collapsed": true,
    "jupyter": {
     "outputs_hidden": true
    }
   },
   "outputs": [
    {
     "name": "stdout",
     "output_type": "stream",
     "text": [
      "bucket=gs://edml/data/taxi-trips\n"
     ]
    },
    {
     "name": "stderr",
     "output_type": "stream",
     "text": [
      "INFO:tensorflow:Using config: {'_keep_checkpoint_every_n_hours': 10000, '_evaluation_master': '', '_global_id_in_cluster': 0, '_is_chief': True, '_keep_checkpoint_max': 3, '_protocol': None, '_cluster_spec': <tensorflow.python.training.server_lib.ClusterSpec object at 0x7fc38ee2d080>, '_num_worker_replicas': 1, '_task_type': 'worker', '_eval_distribute': None, '_tf_random_seed': 2810, '_session_creation_timeout_secs': 7200, '_num_ps_replicas': 0, '_model_dir': 'model_trained_test', '_task_id': 0, '_train_distribute': None, '_save_summary_steps': 100, '_experimental_max_worker_delay_secs': None, '_session_config': allow_soft_placement: true\n",
      "graph_options {\n",
      "  rewrite_options {\n",
      "    meta_optimizer_iterations: ONE\n",
      "  }\n",
      "}\n",
      ", '_service': None, '_experimental_distribute': None, '_device_fn': None, '_save_checkpoints_steps': None, '_master': '', '_save_checkpoints_secs': 300, '_log_step_count_steps': 100}\n",
      "WARNING:tensorflow:\n",
      "The TensorFlow contrib module will not be included in TensorFlow 2.0.\n",
      "For more information, please see:\n",
      "  * https://github.com/tensorflow/community/blob/master/rfcs/20180907-contrib-sunset.md\n",
      "  * https://github.com/tensorflow/addons\n",
      "  * https://github.com/tensorflow/io (for I/O related ops)\n",
      "If you depend on functionality not listed there, please file an issue.\n",
      "\n",
      "INFO:tensorflow:Using config: {'_keep_checkpoint_every_n_hours': 10000, '_evaluation_master': '', '_global_id_in_cluster': 0, '_is_chief': True, '_keep_checkpoint_max': 3, '_protocol': None, '_cluster_spec': <tensorflow.python.training.server_lib.ClusterSpec object at 0x7fc38ee2df60>, '_num_worker_replicas': 1, '_task_type': 'worker', '_eval_distribute': None, '_tf_random_seed': 2810, '_session_creation_timeout_secs': 7200, '_num_ps_replicas': 0, '_model_dir': 'model_trained_test', '_task_id': 0, '_train_distribute': None, '_save_summary_steps': 100, '_experimental_max_worker_delay_secs': None, '_session_config': allow_soft_placement: true\n",
      "graph_options {\n",
      "  rewrite_options {\n",
      "    meta_optimizer_iterations: ONE\n",
      "  }\n",
      "}\n",
      ", '_service': None, '_experimental_distribute': None, '_device_fn': None, '_save_checkpoints_steps': None, '_master': '', '_save_checkpoints_secs': 300, '_log_step_count_steps': 100}\n",
      "INFO:tensorflow:Not using Distribute Coordinator.\n",
      "INFO:tensorflow:Running training and evaluation locally (non-distributed).\n",
      "INFO:tensorflow:Start train and evaluate loop. The evaluate will happen after every checkpoint. Checkpoint frequency is determined based on RunConfig arguments: save_checkpoints_steps None or save_checkpoints_secs 300.\n",
      "WARNING:tensorflow:From /usr/local/lib/python3.5/dist-packages/tensorflow_core/python/training/training_util.py:236: Variable.initialized_value (from tensorflow.python.ops.variables) is deprecated and will be removed in a future version.\n",
      "Instructions for updating:\n",
      "Use Variable.read_value. Variables in 2.X are initialized automatically both in eager and graph (inside tf.defun) contexts.\n",
      "WARNING:tensorflow:From /usr/local/lib/python3.5/dist-packages/tensorflow_io/bigquery/python/ops/bigquery_api.py:214: parallel_interleave (from tensorflow.python.data.experimental.ops.interleave_ops) is deprecated and will be removed in a future version.\n",
      "Instructions for updating:\n",
      "Use `tf.data.Dataset.interleave(map_func, cycle_length, block_length, num_parallel_calls=tf.data.experimental.AUTOTUNE)` instead. If sloppy execution is desired, use `tf.data.Options.experimental_determinstic`.\n",
      "WARNING:tensorflow:From /usr/local/lib/python3.5/dist-packages/tensorflow_core/python/data/util/random_seed.py:58: where (from tensorflow.python.ops.array_ops) is deprecated and will be removed in a future version.\n",
      "Instructions for updating:\n",
      "Use tf.where in 2.0, which has the same broadcast rule as np.where\n",
      "INFO:tensorflow:Calling model_fn.\n",
      "INFO:tensorflow:Calling model_fn.\n",
      "WARNING:tensorflow:From /usr/local/lib/python3.5/dist-packages/tensorflow_core/python/feature_column/feature_column_v2.py:3079: IdentityCategoricalColumn._num_buckets (from tensorflow.python.feature_column.feature_column_v2) is deprecated and will be removed in a future version.\n",
      "Instructions for updating:\n",
      "The old _FeatureColumn APIs are being deprecated. Please use the new FeatureColumn APIs instead.\n",
      "WARNING:tensorflow:From /usr/local/lib/python3.5/dist-packages/tensorflow_core/python/feature_column/feature_column_v2.py:305: Layer.add_variable (from tensorflow.python.keras.engine.base_layer) is deprecated and will be removed in a future version.\n",
      "Instructions for updating:\n",
      "Please use `layer.add_weight` method instead.\n",
      "WARNING:tensorflow:From /usr/local/lib/python3.5/dist-packages/tensorflow_core/python/ops/resource_variable_ops.py:1630: calling BaseResourceVariable.__init__ (from tensorflow.python.ops.resource_variable_ops) with constraint is deprecated and will be removed in a future version.\n",
      "Instructions for updating:\n",
      "If using Keras pass *_constraint arguments to layers.\n",
      "WARNING:tensorflow:From /usr/local/lib/python3.5/dist-packages/tensorflow_core/python/feature_column/feature_column_v2.py:3079: VocabularyListCategoricalColumn._num_buckets (from tensorflow.python.feature_column.feature_column_v2) is deprecated and will be removed in a future version.\n",
      "Instructions for updating:\n",
      "The old _FeatureColumn APIs are being deprecated. Please use the new FeatureColumn APIs instead.\n",
      "WARNING:tensorflow:From /usr/local/lib/python3.5/dist-packages/tensorflow_estimator/python/estimator/canned/linear.py:308: to_float (from tensorflow.python.ops.math_ops) is deprecated and will be removed in a future version.\n",
      "Instructions for updating:\n",
      "Use `tf.cast` instead.\n",
      "WARNING:tensorflow:From /usr/local/lib/python3.5/dist-packages/tensorflow_core/python/training/adagrad.py:76: calling Constant.__init__ (from tensorflow.python.ops.init_ops) with dtype is deprecated and will be removed in a future version.\n",
      "Instructions for updating:\n",
      "Call initializer instance with the dtype argument instead of passing it to the constructor\n",
      "INFO:tensorflow:Done calling model_fn.\n",
      "INFO:tensorflow:Done calling model_fn.\n",
      "INFO:tensorflow:Create CheckpointSaverHook.\n",
      "INFO:tensorflow:Graph was finalized.\n",
      "2020-02-26 19:50:59.599606: I tensorflow/core/platform/profile_utils/cpu_utils.cc:94] CPU Frequency: 2300000000 Hz\n",
      "2020-02-26 19:50:59.600925: I tensorflow/compiler/xla/service/service.cc:168] XLA service 0x5642ad4e7b80 initialized for platform Host (this does not guarantee that XLA will be used). Devices:\n",
      "2020-02-26 19:50:59.600959: I tensorflow/compiler/xla/service/service.cc:176]   StreamExecutor device (0): Host, Default Version\n",
      "2020-02-26 19:50:59.602021: I tensorflow/core/common_runtime/process_util.cc:136] Creating new thread pool with default inter op setting: 2. Tune using inter_op_parallelism_threads for best performance.\n",
      "INFO:tensorflow:Running local_init_op.\n",
      "INFO:tensorflow:Done running local_init_op.\n",
      "INFO:tensorflow:Saving checkpoints for 0 into model_trained_test/model.ckpt.\n",
      "INFO:tensorflow:loss = 169066.88, step = 1\n",
      "INFO:tensorflow:global_step/sec: 25.6535\n",
      "INFO:tensorflow:loss = 144583.22, step = 101 (3.899 sec)\n",
      "INFO:tensorflow:global_step/sec: 53.9113\n",
      "INFO:tensorflow:loss = 141658.2, step = 201 (1.855 sec)\n",
      "INFO:tensorflow:global_step/sec: 59.7496\n",
      "INFO:tensorflow:loss = 139524.47, step = 301 (1.674 sec)\n",
      "INFO:tensorflow:global_step/sec: 58.4645\n",
      "INFO:tensorflow:loss = 136941.3, step = 401 (1.710 sec)\n",
      "INFO:tensorflow:global_step/sec: 48.8739\n",
      "INFO:tensorflow:loss = 131857.89, step = 501 (2.046 sec)\n",
      "INFO:tensorflow:global_step/sec: 49.9776\n",
      "INFO:tensorflow:loss = 133803.83, step = 601 (2.001 sec)\n",
      "INFO:tensorflow:global_step/sec: 51.7872\n",
      "INFO:tensorflow:loss = 138088.64, step = 701 (1.931 sec)\n",
      "INFO:tensorflow:global_step/sec: 56.8145\n",
      "INFO:tensorflow:loss = 136621.03, step = 801 (1.760 sec)\n",
      "INFO:tensorflow:global_step/sec: 60.9503\n",
      "INFO:tensorflow:loss = 169021.97, step = 901 (1.641 sec)\n",
      "INFO:tensorflow:global_step/sec: 62.1871\n",
      "INFO:tensorflow:loss = 173745.48, step = 1001 (1.608 sec)\n",
      "INFO:tensorflow:global_step/sec: 57.1001\n",
      "INFO:tensorflow:loss = 120600.86, step = 1101 (1.752 sec)\n",
      "INFO:tensorflow:global_step/sec: 52.7684\n",
      "INFO:tensorflow:loss = 174298.6, step = 1201 (1.895 sec)\n",
      "INFO:tensorflow:global_step/sec: 54.7267\n",
      "INFO:tensorflow:loss = 127507.234, step = 1301 (1.827 sec)\n",
      "INFO:tensorflow:global_step/sec: 63.7103\n",
      "INFO:tensorflow:loss = 162076.22, step = 1401 (1.570 sec)\n",
      "INFO:tensorflow:global_step/sec: 51.8021\n",
      "INFO:tensorflow:loss = 131326.16, step = 1501 (1.930 sec)\n",
      "INFO:tensorflow:global_step/sec: 57.3677\n",
      "INFO:tensorflow:loss = 128208.336, step = 1601 (1.743 sec)\n",
      "INFO:tensorflow:global_step/sec: 64.3566\n",
      "INFO:tensorflow:loss = 142622.23, step = 1701 (1.554 sec)\n",
      "INFO:tensorflow:global_step/sec: 61.0051\n",
      "INFO:tensorflow:loss = 130860.64, step = 1801 (1.639 sec)\n",
      "INFO:tensorflow:global_step/sec: 63.1122\n",
      "INFO:tensorflow:loss = 118791.78, step = 1901 (1.584 sec)\n",
      "INFO:tensorflow:global_step/sec: 49.8041\n",
      "INFO:tensorflow:loss = 143732.25, step = 2001 (2.008 sec)\n",
      "INFO:tensorflow:global_step/sec: 59.6835\n",
      "INFO:tensorflow:loss = 109943.625, step = 2101 (1.675 sec)\n",
      "INFO:tensorflow:global_step/sec: 58.2054\n",
      "INFO:tensorflow:loss = 145337.03, step = 2201 (1.718 sec)\n",
      "INFO:tensorflow:global_step/sec: 55.8518\n",
      "INFO:tensorflow:loss = 123337.5, step = 2301 (1.791 sec)\n",
      "INFO:tensorflow:global_step/sec: 55.6268\n",
      "INFO:tensorflow:loss = 138247.64, step = 2401 (1.798 sec)\n",
      "INFO:tensorflow:global_step/sec: 48.3777\n",
      "INFO:tensorflow:loss = 147866.2, step = 2501 (2.067 sec)\n",
      "INFO:tensorflow:global_step/sec: 44.5581\n",
      "INFO:tensorflow:loss = 134802.97, step = 2601 (2.244 sec)\n",
      "INFO:tensorflow:global_step/sec: 49.709\n",
      "INFO:tensorflow:loss = 143777.81, step = 2701 (2.012 sec)\n",
      "INFO:tensorflow:global_step/sec: 55.3604\n",
      "INFO:tensorflow:loss = 144065.69, step = 2801 (1.807 sec)\n",
      "INFO:tensorflow:global_step/sec: 53.4242\n",
      "INFO:tensorflow:loss = 128338.05, step = 2901 (1.872 sec)\n",
      "INFO:tensorflow:global_step/sec: 50.1412\n",
      "INFO:tensorflow:loss = 125041.03, step = 3001 (1.994 sec)\n",
      "INFO:tensorflow:global_step/sec: 51.05\n",
      "INFO:tensorflow:loss = 115041.64, step = 3101 (1.959 sec)\n",
      "INFO:tensorflow:global_step/sec: 58.0669\n",
      "INFO:tensorflow:loss = 121682.27, step = 3201 (1.722 sec)\n",
      "INFO:tensorflow:global_step/sec: 52.5913\n",
      "INFO:tensorflow:loss = 115585.42, step = 3301 (1.902 sec)\n",
      "INFO:tensorflow:global_step/sec: 47.6939\n",
      "INFO:tensorflow:loss = 117969.9, step = 3401 (2.097 sec)\n",
      "INFO:tensorflow:global_step/sec: 46.6308\n",
      "INFO:tensorflow:loss = 131207.44, step = 3501 (2.145 sec)\n",
      "INFO:tensorflow:global_step/sec: 56.1025\n",
      "INFO:tensorflow:loss = 151507.19, step = 3601 (1.783 sec)\n",
      "INFO:tensorflow:global_step/sec: 54.1565\n",
      "INFO:tensorflow:loss = 119652.86, step = 3701 (1.846 sec)\n",
      "INFO:tensorflow:global_step/sec: 57.9916\n",
      "INFO:tensorflow:loss = 142482.56, step = 3801 (1.724 sec)\n",
      "INFO:tensorflow:global_step/sec: 57.3257\n",
      "INFO:tensorflow:loss = 113015.766, step = 3901 (1.744 sec)\n",
      "INFO:tensorflow:global_step/sec: 56.9323\n",
      "INFO:tensorflow:loss = 117349.984, step = 4001 (1.756 sec)\n",
      "INFO:tensorflow:global_step/sec: 57.0821\n",
      "INFO:tensorflow:loss = 135242.44, step = 4101 (1.752 sec)\n",
      "INFO:tensorflow:global_step/sec: 60.1258\n",
      "INFO:tensorflow:loss = 141342.89, step = 4201 (1.663 sec)\n",
      "INFO:tensorflow:global_step/sec: 55.3211\n",
      "INFO:tensorflow:loss = 146887.39, step = 4301 (1.808 sec)\n",
      "INFO:tensorflow:global_step/sec: 64.1156\n",
      "INFO:tensorflow:loss = 121230.875, step = 4401 (1.559 sec)\n",
      "INFO:tensorflow:global_step/sec: 53.5717\n",
      "INFO:tensorflow:loss = 153615.81, step = 4501 (1.867 sec)\n",
      "INFO:tensorflow:global_step/sec: 48.5718\n",
      "INFO:tensorflow:loss = 137232.14, step = 4601 (2.059 sec)\n",
      "INFO:tensorflow:global_step/sec: 54.5067\n",
      "INFO:tensorflow:loss = 137614.48, step = 4701 (1.835 sec)\n",
      "INFO:tensorflow:global_step/sec: 49.5947\n",
      "INFO:tensorflow:loss = 125953.96, step = 4801 (2.016 sec)\n",
      "INFO:tensorflow:global_step/sec: 55.1223\n",
      "INFO:tensorflow:loss = 140357.28, step = 4901 (1.815 sec)\n",
      "INFO:tensorflow:global_step/sec: 54.9224\n",
      "INFO:tensorflow:loss = 126533.89, step = 5001 (1.821 sec)\n",
      "INFO:tensorflow:global_step/sec: 52.3119\n",
      "INFO:tensorflow:loss = 97864.76, step = 5101 (1.912 sec)\n",
      "INFO:tensorflow:global_step/sec: 50.1705\n",
      "INFO:tensorflow:loss = 120797.55, step = 5201 (1.993 sec)\n",
      "INFO:tensorflow:global_step/sec: 56.3832\n",
      "INFO:tensorflow:loss = 123696.31, step = 5301 (1.773 sec)\n",
      "INFO:tensorflow:global_step/sec: 55.3507\n",
      "INFO:tensorflow:loss = 107288.38, step = 5401 (1.806 sec)\n",
      "INFO:tensorflow:global_step/sec: 52.2505\n",
      "INFO:tensorflow:loss = 107691.06, step = 5501 (1.914 sec)\n",
      "INFO:tensorflow:global_step/sec: 53.4676\n",
      "INFO:tensorflow:loss = 132015.97, step = 5601 (1.870 sec)\n",
      "INFO:tensorflow:global_step/sec: 57.5391\n",
      "INFO:tensorflow:loss = 129431.914, step = 5701 (1.738 sec)\n",
      "INFO:tensorflow:global_step/sec: 56.1599\n",
      "INFO:tensorflow:loss = 112901.266, step = 5801 (1.781 sec)\n",
      "INFO:tensorflow:global_step/sec: 60.0692\n",
      "INFO:tensorflow:loss = 122113.78, step = 5901 (1.665 sec)\n",
      "INFO:tensorflow:global_step/sec: 54.9642\n",
      "INFO:tensorflow:loss = 119757.45, step = 6001 (1.819 sec)\n",
      "INFO:tensorflow:global_step/sec: 56.6226\n",
      "INFO:tensorflow:loss = 124904.07, step = 6101 (1.766 sec)\n",
      "INFO:tensorflow:global_step/sec: 56.6339\n",
      "INFO:tensorflow:loss = 114331.16, step = 6201 (1.766 sec)\n",
      "INFO:tensorflow:global_step/sec: 55.7743\n",
      "INFO:tensorflow:loss = 116983.45, step = 6301 (1.793 sec)\n",
      "INFO:tensorflow:global_step/sec: 53.3833\n",
      "INFO:tensorflow:loss = 157958.16, step = 6401 (1.873 sec)\n",
      "INFO:tensorflow:global_step/sec: 58.1196\n",
      "INFO:tensorflow:loss = 111393.97, step = 6501 (1.721 sec)\n",
      "INFO:tensorflow:global_step/sec: 55.9607\n",
      "INFO:tensorflow:loss = 113445.92, step = 6601 (1.787 sec)\n",
      "INFO:tensorflow:global_step/sec: 55.0737\n",
      "INFO:tensorflow:loss = 118204.88, step = 6701 (1.816 sec)\n",
      "INFO:tensorflow:global_step/sec: 56.9879\n",
      "INFO:tensorflow:loss = 148279.25, step = 6801 (1.756 sec)\n",
      "INFO:tensorflow:global_step/sec: 55.8241\n",
      "INFO:tensorflow:loss = 115220.17, step = 6901 (1.791 sec)\n",
      "INFO:tensorflow:global_step/sec: 52.172\n",
      "INFO:tensorflow:loss = 118507.81, step = 7001 (1.916 sec)\n",
      "INFO:tensorflow:global_step/sec: 46.2476\n",
      "INFO:tensorflow:loss = 106992.54, step = 7101 (2.163 sec)\n",
      "INFO:tensorflow:global_step/sec: 48.8389\n",
      "INFO:tensorflow:loss = 105471.586, step = 7201 (2.047 sec)\n",
      "INFO:tensorflow:global_step/sec: 48.8874\n",
      "INFO:tensorflow:loss = 107210.66, step = 7301 (2.046 sec)\n",
      "INFO:tensorflow:global_step/sec: 52.8052\n",
      "INFO:tensorflow:loss = 109106.234, step = 7401 (1.893 sec)\n",
      "INFO:tensorflow:global_step/sec: 49.5367\n",
      "INFO:tensorflow:loss = 117556.016, step = 7501 (2.019 sec)\n",
      "INFO:tensorflow:global_step/sec: 54.534\n",
      "INFO:tensorflow:loss = 126828.0, step = 7601 (1.834 sec)\n",
      "INFO:tensorflow:global_step/sec: 57.1868\n",
      "INFO:tensorflow:loss = 121800.17, step = 7701 (1.748 sec)\n",
      "INFO:tensorflow:global_step/sec: 52.851\n",
      "INFO:tensorflow:loss = 138536.31, step = 7801 (1.893 sec)\n",
      "INFO:tensorflow:global_step/sec: 57.2482\n",
      "INFO:tensorflow:loss = 147006.11, step = 7901 (1.747 sec)\n",
      "INFO:tensorflow:global_step/sec: 51.4482\n",
      "INFO:tensorflow:loss = 121320.24, step = 8001 (1.944 sec)\n",
      "INFO:tensorflow:global_step/sec: 51.0729\n",
      "INFO:tensorflow:loss = 128187.26, step = 8101 (1.958 sec)\n",
      "INFO:tensorflow:global_step/sec: 57.4148\n",
      "INFO:tensorflow:loss = 130040.76, step = 8201 (1.741 sec)\n",
      "INFO:tensorflow:global_step/sec: 60.141\n",
      "INFO:tensorflow:loss = 121720.234, step = 8301 (1.663 sec)\n",
      "INFO:tensorflow:global_step/sec: 56.6456\n",
      "INFO:tensorflow:loss = 128657.55, step = 8401 (1.765 sec)\n",
      "INFO:tensorflow:global_step/sec: 59.1159\n",
      "INFO:tensorflow:loss = 118491.625, step = 8501 (1.691 sec)\n",
      "INFO:tensorflow:global_step/sec: 58.1704\n",
      "INFO:tensorflow:loss = 127986.78, step = 8601 (1.719 sec)\n",
      "INFO:tensorflow:global_step/sec: 51.2327\n",
      "INFO:tensorflow:loss = 105542.59, step = 8701 (1.952 sec)\n",
      "INFO:tensorflow:global_step/sec: 52.5012\n",
      "INFO:tensorflow:loss = 137065.62, step = 8801 (1.904 sec)\n",
      "INFO:tensorflow:global_step/sec: 49.7482\n",
      "INFO:tensorflow:loss = 93254.61, step = 8901 (2.019 sec)\n",
      "INFO:tensorflow:global_step/sec: 55.2019\n",
      "INFO:tensorflow:loss = 130741.81, step = 9001 (1.803 sec)\n",
      "INFO:tensorflow:global_step/sec: 49.2259\n",
      "INFO:tensorflow:loss = 130295.34, step = 9101 (2.032 sec)\n",
      "INFO:tensorflow:global_step/sec: 54.3463\n",
      "INFO:tensorflow:loss = 111827.8, step = 9201 (1.840 sec)\n",
      "INFO:tensorflow:global_step/sec: 53.5418\n",
      "INFO:tensorflow:loss = 105955.48, step = 9301 (1.868 sec)\n",
      "INFO:tensorflow:global_step/sec: 59.2812\n",
      "INFO:tensorflow:loss = 128748.64, step = 9401 (1.687 sec)\n",
      "INFO:tensorflow:global_step/sec: 57.2658\n",
      "INFO:tensorflow:loss = 146374.88, step = 9501 (1.746 sec)\n",
      "INFO:tensorflow:global_step/sec: 58.023\n",
      "INFO:tensorflow:loss = 104088.25, step = 9601 (1.724 sec)\n",
      "INFO:tensorflow:global_step/sec: 55.6476\n",
      "INFO:tensorflow:loss = 109889.36, step = 9701 (1.797 sec)\n",
      "INFO:tensorflow:global_step/sec: 51.465\n",
      "INFO:tensorflow:loss = 118634.8, step = 9801 (1.943 sec)\n",
      "INFO:tensorflow:global_step/sec: 50.5804\n",
      "INFO:tensorflow:loss = 141065.92, step = 9901 (1.977 sec)\n",
      "INFO:tensorflow:Saving checkpoints for 10000 into model_trained_test/model.ckpt.\n",
      "INFO:tensorflow:Calling model_fn.\n",
      "INFO:tensorflow:Calling model_fn.\n",
      "INFO:tensorflow:Done calling model_fn.\n",
      "INFO:tensorflow:Done calling model_fn.\n",
      "INFO:tensorflow:Starting evaluation at 2020-02-26T19:54:22Z\n",
      "INFO:tensorflow:Graph was finalized.\n",
      "INFO:tensorflow:Restoring parameters from model_trained_test/model.ckpt-10000\n",
      "INFO:tensorflow:Running local_init_op.\n",
      "INFO:tensorflow:Done running local_init_op.\n",
      "INFO:tensorflow:Evaluation [1/2]\n",
      "INFO:tensorflow:Evaluation [2/2]\n",
      "INFO:tensorflow:Finished evaluation at 2020-02-26-19:54:30\n",
      "INFO:tensorflow:Saving dict for global step 10000: average_loss = 132.14243, global_step = 10000, label/mean = 11.990799, loss = 4330043.0, prediction/mean = 4.2449837, rmse = 11.495322\n",
      "INFO:tensorflow:Saving 'checkpoint_path' summary for global step 10000: model_trained_test/model.ckpt-10000\n",
      "INFO:tensorflow:Calling model_fn.\n",
      "INFO:tensorflow:Calling model_fn.\n",
      "INFO:tensorflow:Done calling model_fn.\n",
      "INFO:tensorflow:Done calling model_fn.\n",
      "WARNING:tensorflow:From /usr/local/lib/python3.5/dist-packages/tensorflow_core/python/saved_model/signature_def_utils_impl.py:201: build_tensor_info (from tensorflow.python.saved_model.utils_impl) is deprecated and will be removed in a future version.\n",
      "Instructions for updating:\n",
      "This function will only be available through the v1 compatibility library as tf.compat.v1.saved_model.utils.build_tensor_info or tf.compat.v1.saved_model.build_tensor_info.\n",
      "INFO:tensorflow:Signatures INCLUDED in export for Regress: None\n",
      "INFO:tensorflow:Signatures INCLUDED in export for Train: None\n",
      "INFO:tensorflow:Signatures INCLUDED in export for Classify: None\n",
      "INFO:tensorflow:Signatures INCLUDED in export for Predict: ['predict']\n",
      "INFO:tensorflow:Signatures INCLUDED in export for Eval: None\n",
      "INFO:tensorflow:Signatures EXCLUDED from export because they cannot be be served via TensorFlow Serving APIs:\n",
      "INFO:tensorflow:'regression' : Regression input must be a single string Tensor; got {'passenger_count': <tf.Tensor 'passenger_count:0' shape=(?,) dtype=int64>, 'uuid': <tf.Tensor 'uuid:0' shape=(?,) dtype=string>, 'dropoff_zone_name': <tf.Tensor 'dropoff_zone_name:0' shape=(?,) dtype=string>, 'dayofweek': <tf.Tensor 'dayofweek:0' shape=(?,) dtype=int64>, 'hourofday': <tf.Tensor 'hourofday:0' shape=(?,) dtype=int64>, 'pickup_zone_name': <tf.Tensor 'pickup_zone_name:0' shape=(?,) dtype=string>}\n",
      "INFO:tensorflow:'serving_default' : Regression input must be a single string Tensor; got {'passenger_count': <tf.Tensor 'passenger_count:0' shape=(?,) dtype=int64>, 'uuid': <tf.Tensor 'uuid:0' shape=(?,) dtype=string>, 'dropoff_zone_name': <tf.Tensor 'dropoff_zone_name:0' shape=(?,) dtype=string>, 'dayofweek': <tf.Tensor 'dayofweek:0' shape=(?,) dtype=int64>, 'hourofday': <tf.Tensor 'hourofday:0' shape=(?,) dtype=int64>, 'pickup_zone_name': <tf.Tensor 'pickup_zone_name:0' shape=(?,) dtype=string>}\n",
      "WARNING:tensorflow:Export includes no default signature!\n",
      "INFO:tensorflow:Restoring parameters from model_trained_test/model.ckpt-10000\n",
      "INFO:tensorflow:Assets added to graph.\n",
      "INFO:tensorflow:No assets to write.\n",
      "INFO:tensorflow:SavedModel written to: model_trained_test/export/exporter/temp-b'1582746870'/saved_model.pb\n",
      "INFO:tensorflow:Loss for final step: 108773.26.\n"
     ]
    }
   ],
   "source": [
    "%%bash\n",
    "echo \"bucket=${BUCKET}\"\n",
    "rm -rf model_trained_test\n",
    "export PYTHONPATH=${PYTHONPATH}:~/event-driven-ml/edml-trainer\n",
    "python3 -m trainer.task \\\n",
    "  --bucket=${BUCKET} \\\n",
    "  --output-dir=model_trained_test \\\n",
    "  --job-dir=./tmp \\\n",
    "  --train-examples=500 \\\n",
    "  --nembeds 10 \\\n",
    "  --nnsize 10 5 \\\n",
    "  --eval-steps=2"
   ]
  },
  {
   "cell_type": "code",
   "execution_count": null,
   "metadata": {},
   "outputs": [],
   "source": [
    "%%bash\n",
    "gsutil cp ./model_trained_test/export/exporter/1581540201/saved_model.pb gs://edml/tmp"
   ]
  },
  {
   "cell_type": "code",
   "execution_count": null,
   "metadata": {},
   "outputs": [],
   "source": [
    "from google.datalab.ml import TensorBoard"
   ]
  },
  {
   "cell_type": "code",
   "execution_count": null,
   "metadata": {},
   "outputs": [],
   "source": [
    "TensorBoard().start('./model_trained_test')\n",
    "TensorBoard().list()"
   ]
  },
  {
   "cell_type": "code",
   "execution_count": null,
   "metadata": {},
   "outputs": [],
   "source": [
    "for pid in TensorBoard.list()['pid']:\n",
    "    TensorBoard().stop(pid)\n",
    "    print('Stopped TensorBoard with pid {}'.format(pid))"
   ]
  },
  {
   "cell_type": "code",
   "execution_count": null,
   "metadata": {},
   "outputs": [],
   "source": [
    "%%bash\n",
    "export MODEL_DIR=tmp_tensorboard\n",
    "tensorboard --logdir=$MODEL_DIR --port=6006"
   ]
  },
  {
   "cell_type": "markdown",
   "metadata": {},
   "source": [
    "## Local prediction"
   ]
  },
  {
   "cell_type": "code",
   "execution_count": 6,
   "metadata": {},
   "outputs": [
    {
     "name": "stdout",
     "output_type": "stream",
     "text": [
      "Overwriting inputs.json\n"
     ]
    }
   ],
   "source": [
    "%%writefile inputs.json\n",
    "{\"uuid\": \"b1\", \"dayofweek\": 6, \"hourofday\": 7, \"pickup_zone_name\": \"World Trade Center\", \"dropoff_zone_name\": \"Newark Airport\", \"passenger_count\": 1}\n",
    "{\"uuid\": \"g1\", \"dayofweek\": 3, \"hourofday\": 23, \"pickup_zone_name\": \"World Trade Center\", \"dropoff_zone_name\": \"Times Sq/Theatre District\", \"passenger_count\": 1}"
   ]
  },
  {
   "cell_type": "code",
   "execution_count": 7,
   "metadata": {},
   "outputs": [
    {
     "name": "stdout",
     "output_type": "stream",
     "text": [
      "/home/jupyter/event-driven-ml/edml-notebooks/gbi/model_trained_test/export/exporter/1582746870\n",
      "PREDICTIONS\n",
      "[6.1988983154296875]\n",
      "[4.54083251953125]\n"
     ]
    },
    {
     "name": "stderr",
     "output_type": "stream",
     "text": [
      "If the signature defined in the model is not serving_default then you must specify it via --signature-name flag, otherwise the command may fail.\n",
      "WARNING: WARNING:tensorflow:From /usr/lib/google-cloud-sdk/lib/third_party/ml_sdk/cloud/ml/prediction/frameworks/tf_prediction_lib.py:48: The name tf.saved_model.tag_constants.SERVING is deprecated. Please use tf.saved_model.SERVING instead.\n",
      "\n",
      "WARNING:tensorflow:From /usr/lib/google-cloud-sdk/lib/third_party/ml_sdk/cloud/ml/prediction/frameworks/tf_prediction_lib.py:50: The name tf.saved_model.signature_constants.DEFAULT_SERVING_SIGNATURE_DEF_KEY is deprecated. Please use tf.saved_model.DEFAULT_SERVING_SIGNATURE_DEF_KEY instead.\n",
      "\n",
      "WARNING:tensorflow:\n",
      "The TensorFlow contrib module will not be included in TensorFlow 2.0.\n",
      "For more information, please see:\n",
      "  * https://github.com/tensorflow/community/blob/master/rfcs/20180907-contrib-sunset.md\n",
      "  * https://github.com/tensorflow/addons\n",
      "  * https://github.com/tensorflow/io (for I/O related ops)\n",
      "If you depend on functionality not listed there, please file an issue.\n",
      "\n",
      "WARNING:tensorflow:From /usr/lib/google-cloud-sdk/lib/third_party/ml_sdk/cloud/ml/prediction/frameworks/tf_prediction_lib.py:607: The name tf.gfile.IsDirectory is deprecated. Please use tf.io.gfile.isdir instead.\n",
      "\n",
      "WARNING:tensorflow:From /usr/lib/google-cloud-sdk/lib/third_party/ml_sdk/cloud/ml/prediction/frameworks/tf_prediction_lib.py:224: The name tf.saved_model.loader.maybe_saved_model_directory is deprecated. Please use tf.compat.v1.saved_model.loader.maybe_saved_model_directory instead.\n",
      "\n",
      "WARNING:tensorflow:From /usr/lib/google-cloud-sdk/lib/third_party/ml_sdk/cloud/ml/prediction/frameworks/tf_prediction_lib.py:231: The name tf.Session is deprecated. Please use tf.compat.v1.Session instead.\n",
      "\n",
      "WARNING:tensorflow:From /usr/lib/google-cloud-sdk/lib/third_party/ml_sdk/cloud/ml/prediction/frameworks/tf_prediction_lib.py:231: The name tf.Session is deprecated. Please use tf.compat.v1.Session instead.\n",
      "\n",
      "2020-02-26 19:56:20.364659: I tensorflow/core/platform/profile_utils/cpu_utils.cc:94] CPU Frequency: 2300000000 Hz\n",
      "2020-02-26 19:56:20.366094: I tensorflow/compiler/xla/service/service.cc:168] XLA service 0x5569d06b2390 initialized for platform Host (this does not guarantee that XLA will be used). Devices:\n",
      "2020-02-26 19:56:20.366128: I tensorflow/compiler/xla/service/service.cc:176]   StreamExecutor device (0): Host, Default Version\n",
      "2020-02-26 19:56:20.366529: I tensorflow/core/common_runtime/process_util.cc:136] Creating new thread pool with default inter op setting: 2. Tune using inter_op_parallelism_threads for best performance.\n",
      "WARNING:tensorflow:From /usr/lib/google-cloud-sdk/lib/third_party/ml_sdk/cloud/ml/prediction/frameworks/tf_prediction_lib.py:233: load (from tensorflow.python.saved_model.loader_impl) is deprecated and will be removed in a future version.\n",
      "Instructions for updating:\n",
      "This function will only be available through the v1 compatibility library as tf.compat.v1.saved_model.loader.load or tf.compat.v1.saved_model.load. There will be a new function for importing SavedModels in Tensorflow 2.0.\n",
      "WARNING:tensorflow:From /usr/lib/google-cloud-sdk/lib/third_party/ml_sdk/cloud/ml/prediction/frameworks/tf_prediction_lib.py:233: load (from tensorflow.python.saved_model.loader_impl) is deprecated and will be removed in a future version.\n",
      "Instructions for updating:\n",
      "This function will only be available through the v1 compatibility library as tf.compat.v1.saved_model.loader.load or tf.compat.v1.saved_model.load. There will be a new function for importing SavedModels in Tensorflow 2.0.\n",
      "\n"
     ]
    }
   ],
   "source": [
    "%%bash\n",
    "MODEL_LOCATION=$(ls -d $(pwd)/model_trained_test/export/exporter/* | tail -1)\n",
    "echo $MODEL_LOCATION\n",
    "gcloud ai-platform local predict --model-dir=$MODEL_LOCATION --json-instances=inputs.json"
   ]
  },
  {
   "cell_type": "markdown",
   "metadata": {},
   "source": [
    "## Local training / Gcloud"
   ]
  },
  {
   "cell_type": "code",
   "execution_count": 12,
   "metadata": {
    "collapsed": true,
    "jupyter": {
     "outputs_hidden": true
    }
   },
   "outputs": [
    {
     "name": "stdout",
     "output_type": "stream",
     "text": [
      "NAME\n",
      "    gcloud ai-platform - manage AI Platform jobs and models\n",
      "\n",
      "SYNOPSIS\n",
      "    gcloud ai-platform GROUP | COMMAND [GCLOUD_WIDE_FLAG ...]\n",
      "\n",
      "DESCRIPTION\n",
      "    The gcloud ai-platform command group lets you manage AI Platform jobs and\n",
      "    training models.\n",
      "\n",
      "    AI Platform is a managed service that enables you to easily build machine\n",
      "    learning models, that work on any type of data, of any size. Create your\n",
      "    model with the powerful TensorFlow framework that powers many Google\n",
      "    products, from Google Photos to Google Cloud Speech.\n",
      "\n",
      "    More information on AI Platform can be found here:\n",
      "    https://cloud.google.com/ml and detailed documentation can be found here:\n",
      "    https://cloud.google.com/ml/docs/\n",
      "\n",
      "GCLOUD WIDE FLAGS\n",
      "    These flags are available to all commands: --account, --billing-project,\n",
      "    --configuration, --flags-file, --flatten, --format, --help,\n",
      "    --impersonate-service-account, --log-http, --project, --quiet,\n",
      "    --trace-token, --user-output-enabled, --verbosity.\n",
      "\n",
      "    Run $ gcloud help for details.\n",
      "\n",
      "GROUPS\n",
      "    GROUP is one of the following:\n",
      "\n",
      "     jobs\n",
      "        AI Platform Jobs commands.\n",
      "\n",
      "     local\n",
      "        AI Platform Local commands.\n",
      "\n",
      "     models\n",
      "        AI Platform Models commands.\n",
      "\n",
      "     operations\n",
      "        Manage AI Platform operations.\n",
      "\n",
      "     versions\n",
      "        AI Platform Versions commands.\n",
      "\n",
      "COMMANDS\n",
      "    COMMAND is one of the following:\n",
      "\n",
      "     predict\n",
      "        Run AI Platform online prediction.\n",
      "\n",
      "NOTES\n",
      "    These variants are also available:\n",
      "\n",
      "        $ gcloud alpha ai-platform\n",
      "        $ gcloud beta ai-platform\n",
      "\n"
     ]
    }
   ],
   "source": [
    "%%bash\n",
    "gcloud ai-platform --help"
   ]
  },
  {
   "cell_type": "code",
   "execution_count": 6,
   "metadata": {},
   "outputs": [
    {
     "name": "stdout",
     "output_type": "stream",
     "text": [
      "/usr/local/cuda/bin:/usr/local/bin:/usr/bin:/bin:/usr/local/games:/usr/games\n"
     ]
    }
   ],
   "source": [
    "%%bash\n",
    "echo $PATH"
   ]
  },
  {
   "cell_type": "code",
   "execution_count": 7,
   "metadata": {},
   "outputs": [
    {
     "name": "stderr",
     "output_type": "stream",
     "text": [
      "ERROR: (gcloud.ai-platform.local.train) /usr/bin/python: command not found\n"
     ]
    },
    {
     "ename": "CalledProcessError",
     "evalue": "Command 'b'rm -rf model_trained_test\\nexport PYTHONPATH=${PYTHONPATH}:~/event-driven-ml/edml-trainer\\ngcloud ai-platform local train \\\\\\n   --module-name=trainer.task \\\\\\n   --package-path=~/event-driven-ml/edml-trainer \\\\\\n   --job-dir=./tmp \\\\\\n   -- \\\\\\n   --train-examples=500 \\\\\\n   --output-dir=model_trained_test \\\\\\n   --eval-steps=1\\n'' returned non-zero exit status 1",
     "output_type": "error",
     "traceback": [
      "\u001b[0;31m---------------------------------------------------------------------------\u001b[0m",
      "\u001b[0;31mCalledProcessError\u001b[0m                        Traceback (most recent call last)",
      "\u001b[0;32m<ipython-input-7-0f18ae4c3e5d>\u001b[0m in \u001b[0;36m<module>\u001b[0;34m\u001b[0m\n\u001b[0;32m----> 1\u001b[0;31m \u001b[0mget_ipython\u001b[0m\u001b[0;34m(\u001b[0m\u001b[0;34m)\u001b[0m\u001b[0;34m.\u001b[0m\u001b[0mrun_cell_magic\u001b[0m\u001b[0;34m(\u001b[0m\u001b[0;34m'bash'\u001b[0m\u001b[0;34m,\u001b[0m \u001b[0;34m''\u001b[0m\u001b[0;34m,\u001b[0m \u001b[0;34m'rm -rf model_trained_test\\nexport PYTHONPATH=${PYTHONPATH}:~/event-driven-ml/edml-trainer\\ngcloud ai-platform local train \\\\\\n   --module-name=trainer.task \\\\\\n   --package-path=~/event-driven-ml/edml-trainer \\\\\\n   --job-dir=./tmp \\\\\\n   -- \\\\\\n   --train-examples=500 \\\\\\n   --output-dir=model_trained_test \\\\\\n   --eval-steps=1\\n'\u001b[0m\u001b[0;34m)\u001b[0m\u001b[0;34m\u001b[0m\u001b[0m\n\u001b[0m",
      "\u001b[0;32m/usr/local/lib/python3.5/dist-packages/IPython/core/interactiveshell.py\u001b[0m in \u001b[0;36mrun_cell_magic\u001b[0;34m(self, magic_name, line, cell)\u001b[0m\n\u001b[1;32m   2357\u001b[0m             \u001b[0;32mwith\u001b[0m \u001b[0mself\u001b[0m\u001b[0;34m.\u001b[0m\u001b[0mbuiltin_trap\u001b[0m\u001b[0;34m:\u001b[0m\u001b[0;34m\u001b[0m\u001b[0m\n\u001b[1;32m   2358\u001b[0m                 \u001b[0margs\u001b[0m \u001b[0;34m=\u001b[0m \u001b[0;34m(\u001b[0m\u001b[0mmagic_arg_s\u001b[0m\u001b[0;34m,\u001b[0m \u001b[0mcell\u001b[0m\u001b[0;34m)\u001b[0m\u001b[0;34m\u001b[0m\u001b[0m\n\u001b[0;32m-> 2359\u001b[0;31m                 \u001b[0mresult\u001b[0m \u001b[0;34m=\u001b[0m \u001b[0mfn\u001b[0m\u001b[0;34m(\u001b[0m\u001b[0;34m*\u001b[0m\u001b[0margs\u001b[0m\u001b[0;34m,\u001b[0m \u001b[0;34m**\u001b[0m\u001b[0mkwargs\u001b[0m\u001b[0;34m)\u001b[0m\u001b[0;34m\u001b[0m\u001b[0m\n\u001b[0m\u001b[1;32m   2360\u001b[0m             \u001b[0;32mreturn\u001b[0m \u001b[0mresult\u001b[0m\u001b[0;34m\u001b[0m\u001b[0m\n\u001b[1;32m   2361\u001b[0m \u001b[0;34m\u001b[0m\u001b[0m\n",
      "\u001b[0;32m/usr/local/lib/python3.5/dist-packages/IPython/core/magics/script.py\u001b[0m in \u001b[0;36mnamed_script_magic\u001b[0;34m(line, cell)\u001b[0m\n\u001b[1;32m    140\u001b[0m             \u001b[0;32melse\u001b[0m\u001b[0;34m:\u001b[0m\u001b[0;34m\u001b[0m\u001b[0m\n\u001b[1;32m    141\u001b[0m                 \u001b[0mline\u001b[0m \u001b[0;34m=\u001b[0m \u001b[0mscript\u001b[0m\u001b[0;34m\u001b[0m\u001b[0m\n\u001b[0;32m--> 142\u001b[0;31m             \u001b[0;32mreturn\u001b[0m \u001b[0mself\u001b[0m\u001b[0;34m.\u001b[0m\u001b[0mshebang\u001b[0m\u001b[0;34m(\u001b[0m\u001b[0mline\u001b[0m\u001b[0;34m,\u001b[0m \u001b[0mcell\u001b[0m\u001b[0;34m)\u001b[0m\u001b[0;34m\u001b[0m\u001b[0m\n\u001b[0m\u001b[1;32m    143\u001b[0m \u001b[0;34m\u001b[0m\u001b[0m\n\u001b[1;32m    144\u001b[0m         \u001b[0;31m# write a basic docstring:\u001b[0m\u001b[0;34m\u001b[0m\u001b[0;34m\u001b[0m\u001b[0m\n",
      "\u001b[0;32m</usr/local/lib/python3.5/dist-packages/decorator.py:decorator-gen-110>\u001b[0m in \u001b[0;36mshebang\u001b[0;34m(self, line, cell)\u001b[0m\n",
      "\u001b[0;32m/usr/local/lib/python3.5/dist-packages/IPython/core/magic.py\u001b[0m in \u001b[0;36m<lambda>\u001b[0;34m(f, *a, **k)\u001b[0m\n\u001b[1;32m    185\u001b[0m     \u001b[0;31m# but it's overkill for just that one bit of state.\u001b[0m\u001b[0;34m\u001b[0m\u001b[0;34m\u001b[0m\u001b[0m\n\u001b[1;32m    186\u001b[0m     \u001b[0;32mdef\u001b[0m \u001b[0mmagic_deco\u001b[0m\u001b[0;34m(\u001b[0m\u001b[0marg\u001b[0m\u001b[0;34m)\u001b[0m\u001b[0;34m:\u001b[0m\u001b[0;34m\u001b[0m\u001b[0m\n\u001b[0;32m--> 187\u001b[0;31m         \u001b[0mcall\u001b[0m \u001b[0;34m=\u001b[0m \u001b[0;32mlambda\u001b[0m \u001b[0mf\u001b[0m\u001b[0;34m,\u001b[0m \u001b[0;34m*\u001b[0m\u001b[0ma\u001b[0m\u001b[0;34m,\u001b[0m \u001b[0;34m**\u001b[0m\u001b[0mk\u001b[0m\u001b[0;34m:\u001b[0m \u001b[0mf\u001b[0m\u001b[0;34m(\u001b[0m\u001b[0;34m*\u001b[0m\u001b[0ma\u001b[0m\u001b[0;34m,\u001b[0m \u001b[0;34m**\u001b[0m\u001b[0mk\u001b[0m\u001b[0;34m)\u001b[0m\u001b[0;34m\u001b[0m\u001b[0m\n\u001b[0m\u001b[1;32m    188\u001b[0m \u001b[0;34m\u001b[0m\u001b[0m\n\u001b[1;32m    189\u001b[0m         \u001b[0;32mif\u001b[0m \u001b[0mcallable\u001b[0m\u001b[0;34m(\u001b[0m\u001b[0marg\u001b[0m\u001b[0;34m)\u001b[0m\u001b[0;34m:\u001b[0m\u001b[0;34m\u001b[0m\u001b[0m\n",
      "\u001b[0;32m/usr/local/lib/python3.5/dist-packages/IPython/core/magics/script.py\u001b[0m in \u001b[0;36mshebang\u001b[0;34m(self, line, cell)\u001b[0m\n\u001b[1;32m    243\u001b[0m             \u001b[0msys\u001b[0m\u001b[0;34m.\u001b[0m\u001b[0mstderr\u001b[0m\u001b[0;34m.\u001b[0m\u001b[0mflush\u001b[0m\u001b[0;34m(\u001b[0m\u001b[0;34m)\u001b[0m\u001b[0;34m\u001b[0m\u001b[0m\n\u001b[1;32m    244\u001b[0m         \u001b[0;32mif\u001b[0m \u001b[0margs\u001b[0m\u001b[0;34m.\u001b[0m\u001b[0mraise_error\u001b[0m \u001b[0;32mand\u001b[0m \u001b[0mp\u001b[0m\u001b[0;34m.\u001b[0m\u001b[0mreturncode\u001b[0m\u001b[0;34m!=\u001b[0m\u001b[0;36m0\u001b[0m\u001b[0;34m:\u001b[0m\u001b[0;34m\u001b[0m\u001b[0m\n\u001b[0;32m--> 245\u001b[0;31m             \u001b[0;32mraise\u001b[0m \u001b[0mCalledProcessError\u001b[0m\u001b[0;34m(\u001b[0m\u001b[0mp\u001b[0m\u001b[0;34m.\u001b[0m\u001b[0mreturncode\u001b[0m\u001b[0;34m,\u001b[0m \u001b[0mcell\u001b[0m\u001b[0;34m,\u001b[0m \u001b[0moutput\u001b[0m\u001b[0;34m=\u001b[0m\u001b[0mout\u001b[0m\u001b[0;34m,\u001b[0m \u001b[0mstderr\u001b[0m\u001b[0;34m=\u001b[0m\u001b[0merr\u001b[0m\u001b[0;34m)\u001b[0m\u001b[0;34m\u001b[0m\u001b[0m\n\u001b[0m\u001b[1;32m    246\u001b[0m \u001b[0;34m\u001b[0m\u001b[0m\n\u001b[1;32m    247\u001b[0m     \u001b[0;32mdef\u001b[0m \u001b[0m_run_script\u001b[0m\u001b[0;34m(\u001b[0m\u001b[0mself\u001b[0m\u001b[0;34m,\u001b[0m \u001b[0mp\u001b[0m\u001b[0;34m,\u001b[0m \u001b[0mcell\u001b[0m\u001b[0;34m,\u001b[0m \u001b[0mto_close\u001b[0m\u001b[0;34m)\u001b[0m\u001b[0;34m:\u001b[0m\u001b[0;34m\u001b[0m\u001b[0m\n",
      "\u001b[0;31mCalledProcessError\u001b[0m: Command 'b'rm -rf model_trained_test\\nexport PYTHONPATH=${PYTHONPATH}:~/event-driven-ml/edml-trainer\\ngcloud ai-platform local train \\\\\\n   --module-name=trainer.task \\\\\\n   --package-path=~/event-driven-ml/edml-trainer \\\\\\n   --job-dir=./tmp \\\\\\n   -- \\\\\\n   --train-examples=500 \\\\\\n   --output-dir=model_trained_test \\\\\\n   --eval-steps=1\\n'' returned non-zero exit status 1"
     ]
    }
   ],
   "source": [
    "%%bash\n",
    "rm -rf model_trained_test\n",
    "export PYTHONPATH=${PYTHONPATH}:~/event-driven-ml/edml-trainer:/usr/bin/python\n",
    "gcloud ai-platform local train \\\n",
    "   --module-name=trainer.task \\\n",
    "   --package-path=~/event-driven-ml/edml-trainer \\\n",
    "   --job-dir=./tmp \\\n",
    "   -- \\\n",
    "   --train-examples=500 \\\n",
    "   --output-dir=model_trained_test \\\n",
    "   --eval-steps=1"
   ]
  },
  {
   "cell_type": "code",
   "execution_count": null,
   "metadata": {},
   "outputs": [],
   "source": []
  }
 ],
 "metadata": {
  "kernelspec": {
   "display_name": "Python 3",
   "language": "python",
   "name": "python3"
  },
  "language_info": {
   "codemirror_mode": {
    "name": "ipython",
    "version": 3
   },
   "file_extension": ".py",
   "mimetype": "text/x-python",
   "name": "python",
   "nbconvert_exporter": "python",
   "pygments_lexer": "ipython3",
   "version": "3.5.3"
  }
 },
 "nbformat": 4,
 "nbformat_minor": 4
}

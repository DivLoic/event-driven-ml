{
 "cells": [
  {
   "cell_type": "markdown",
   "metadata": {},
   "source": [
    "## Remote training"
   ]
  },
  {
   "cell_type": "code",
   "execution_count": null,
   "metadata": {},
   "outputs": [],
   "source": [
    "%%bash\n",
    "\n",
    "BUCKET=edml\n",
    "echo $BUCKET\n",
    "TRAINER_PACKAGE_PATH=gs://${BUCKET}/ai-platform/edml-trainer\n",
    "echo $TRAINER_PACKAGE_PATH\n",
    "MAIN_TRAINER_MODULE=\"trainer.task\"\n",
    "PACKAGE_STAGING_PATH=gs://${BUCKET}/ai-platform/staging\n",
    "echo $PACKAGE_STAGING_PATH\n",
    "now=$(date +\"%Y%m%d\")\n",
    "JOB_NAME=edml_trainer_$now\n",
    "JOB_DIR=gs://${BUCKET}/ai-platform/models/${JOB_NAME}\n",
    "REGION=\"europe-west1-b\"\n",
    "OUTDIR=gs://${BUCKET}/ai-platform/models/${JOB_NAME}/model\n",
    "# gsutil -m rm -rf $OUTDIR\n",
    "\n",
    "gcloud ai-platform jobs submit training $JOB_NAME \\\n",
    "    --staging-bucket $PACKAGE_STAGING_PATH \\\n",
    "    --job-dir $JOB_DIR \\\n",
    "    --package-path $TRAINER_PACKAGE_PATH \\\n",
    "    --module-name $MAIN_TRAINER_MODULE \\\n",
    "    --region $REGION \\\n",
    "    -- \\\n",
    "    --bucket=${BUCKET} \\\n",
    "    --output-dir=${OUTDIR} \\\n",
    "    --train-examples=500 \\\n",
    "    --eval-steps=1"
   ]
  }
 ],
 "metadata": {
  "kernelspec": {
   "display_name": "Python 3",
   "language": "python",
   "name": "python3"
  },
  "language_info": {
   "codemirror_mode": {
    "name": "ipython",
    "version": 3
   },
   "file_extension": ".py",
   "mimetype": "text/x-python",
   "name": "python",
   "nbconvert_exporter": "python",
   "pygments_lexer": "ipython3",
   "version": "3.7.6"
  }
 },
 "nbformat": 4,
 "nbformat_minor": 4
}

{
 "cells": [
  {
   "cell_type": "markdown",
   "metadata": {},
   "source": [
    "## Remote training"
   ]
  },
  {
   "cell_type": "code",
   "execution_count": null,
   "metadata": {},
   "outputs": [],
   "source": [
    "%%bash\n",
    "\n",
    "SOURCE=\"${BASH_SOURCE[0]}\"\n",
    "\n",
    "now=$(date +\"%Y%m%d_%H%M%S\")\n",
    "\n",
    "VERSION=edml_trainer_manual_submit_$now\n",
    "APP=\"${APP:-edml-trainer}\"\n",
    "BUCKET=\"${BUCKET:-edml}\"\n",
    "PACKAGE=\"${PACKAGE:-../../edml-trainer/trainer/}\"\n",
    "MODULE=\"${MODULE:-trainer.task}\"\n",
    "REGION=\"${REGION:-europe-west1}\"\n",
    "\n",
    "JOB_NAME=$(echo ${APP}-${VERSION} | tr '-' '_' | tr '.' '_')\n",
    "\n",
    "JOB_ID=${JOB_NAME}\n",
    "\n",
    "JOB_DIR=gs://${BUCKET}/ai-platform/models/${APP}/${VERSION}\n",
    "\n",
    "PYTHON_VERSION=\"${PYTHON_VERSION:-3.5}\"\n",
    "RUNTIME_VERSION=\"${RUNTIME_VERSION:-1.15}\"\n",
    "\n",
    "OUTDIR=${JOB_DIR}/model\n",
    "\n",
    "echo \"+  SUBMIT PARAMETERS +++++++++++++++++++++++++++++++++++++++++++++++++++++++++++++++++++++++++++++++++++++++++++\"\n",
    "echo \"+  JOB_NAME = ${JOB_NAME}\"\n",
    "echo \"+  JOB_ID = ${JOB_ID}\"\n",
    "echo \"+  VERSION = ${VERSION}\"\n",
    "echo \"+  PACKAGE = ${PACKAGE}\"\n",
    "echo \"+  MODULE = ${MODULE}\"\n",
    "echo \"+  REGION = ${REGION}\"\n",
    "echo \"+  JOB_DIR = ${JOB_DIR}\"\n",
    "echo \"+  PYTHON_VERSION = ${PYTHON_VERSION}\"\n",
    "echo \"+  RUNTIME_VERSION = ${RUNTIME_VERSION}\"\n",
    "echo \"++++++++++++++++++++++++++++++++++++++++++++++++++++++++++++++++++++++++++++++++++++++++++++++++++++++++++++++++\"\n",
    "\n",
    "TRAIN_NNSIZE=\"${TRAIN_NNSIZE:-10 5}\"\n",
    "TRAIN_NEMBEDS=\"${TRAIN_NEMBEDS:-3}\"\n",
    "TRAIN_BATCH_SIZE=\"${TRAIN_BATCH_SIZE:-32}\"\n",
    "TRAIN_EVALSTEP=\"${TRAIN_EVALSTEP:-3}\"\n",
    "TRAIN_STEPS=\"${TRAIN_STEPS:-2800000}\"\n",
    "\n",
    "echo \"\"\n",
    "echo \"\"\n",
    "echo \"\"\n",
    "echo \"\"\n",
    "echo \"+  TRAIN PARAMETERS ++++++++++++++++++++++++++++++++++++++++++++++++++++++++++++++++++++++++++++++++++++++++++++\"\n",
    "echo \"+  BUCKET = ${BUCKET}\"\n",
    "echo \"+  OUTDIR = ${OUTDIR}\"\n",
    "echo \"+  VERSION = ${VERSION}\"\n",
    "echo \"+  TRAIN_EVALSTEP = ${TRAIN_EVALSTEP}\"\n",
    "echo \"+  TRAIN_NNSIZE = ${TRAIN_NNSIZE}\"\n",
    "echo \"+  TRAIN_NEMBEDS = ${TRAIN_NEMBEDS}\"\n",
    "echo \"+  TRAIN_BATCH_SIZE = ${TRAIN_BATCH_SIZE}\"\n",
    "echo \"+  TRAIN_STEPS = ${TRAIN_STEPS}\"\n",
    "echo \"++++++++++++++++++++++++++++++++++++++++++++++++++++++++++++++++++++++++++++++++++++++++++++++++++++++++++++++++\"\n",
    "\n",
    "gcloud ai-platform jobs submit training ${JOB_ID} \\\n",
    "     --job-dir ${JOB_DIR} \\\n",
    "     --package-path ${PACKAGE} \\\n",
    "     --module-name ${MODULE} \\\n",
    "     --region ${REGION} \\\n",
    "     --python-version ${PYTHON_VERSION} \\\n",
    "     --runtime-version ${RUNTIME_VERSION} \\\n",
    "     -- \\\n",
    "     --bucket=${BUCKET} \\\n",
    "     --output-dir=${OUTDIR} \\\n",
    "     --nembeds ${TRAIN_NEMBEDS} \\\n",
    "     --nnsize ${TRAIN_NNSIZE} \\\n",
    "     --batch-size=${TRAIN_BATCH_SIZE} \\\n",
    "     --train-steps=${TRAIN_STEPS} \\\n",
    "     --eval-steps=${TRAIN_EVALSTEP}\n",
    "\n",
    "gcloud ai-platform jobs describe ${JOB_ID}\n",
    "\n",
    "gcloud ai-platform jobs stream-logs ${JOB_ID}"
   ]
  },
  {
   "cell_type": "code",
   "execution_count": null,
   "metadata": {},
   "outputs": [],
   "source": []
  }
 ],
 "metadata": {
  "environment": {
   "name": "tf-gpu.1-15.m56",
   "type": "gcloud",
   "uri": "gcr.io/deeplearning-platform-release/tf-gpu.1-15:m56"
  },
  "kernelspec": {
   "display_name": "Python 3",
   "language": "python",
   "name": "python3"
  },
  "language_info": {
   "codemirror_mode": {
    "name": "ipython",
    "version": 3
   },
   "file_extension": ".py",
   "mimetype": "text/x-python",
   "name": "python",
   "nbconvert_exporter": "python",
   "pygments_lexer": "ipython3",
   "version": "3.7.8"
  }
 },
 "nbformat": 4,
 "nbformat_minor": 4
}

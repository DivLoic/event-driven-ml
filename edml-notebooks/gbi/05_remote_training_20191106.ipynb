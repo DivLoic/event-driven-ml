{
 "cells": [
  {
   "cell_type": "code",
   "execution_count": 1,
   "metadata": {},
   "outputs": [],
   "source": [
    "import os"
   ]
  },
  {
   "cell_type": "markdown",
   "metadata": {},
   "source": [
    "### Define Environment variables"
   ]
  },
  {
   "cell_type": "code",
   "execution_count": 14,
   "metadata": {},
   "outputs": [
    {
     "name": "stdout",
     "output_type": "stream",
     "text": [
      "gs://edml\n",
      "gs://edml/data/taxi-trips/sources\n",
      "trainer.task\n",
      "gs://edml/data/taxi-trips/staging\n",
      "edml_trainer_20191108\n",
      "gs://edml/data/taxi-trips/edml_trainer_20191108\n",
      "europe-west1-b\n",
      "gs://edml/data/taxi-trips/model_test\n"
     ]
    }
   ],
   "source": [
    "%%bash\n",
    "BUCKET='gs://edml'\n",
    "echo $BUCKET\n",
    "\n",
    "TRAINER_PACKAGE_PATH=${BUCKET}/data/taxi-trips/sources\n",
    "echo $TRAINER_PACKAGE_PATH\n",
    "\n",
    "MAIN_TRAINER_MODULE='trainer.task'\n",
    "echo $MAIN_TRAINER_MODULE\n",
    "\n",
    "PACKAGE_STAGING_PATH=${BUCKET}/data/taxi-trips/staging\n",
    "echo $PACKAGE_STAGING_PATH\n",
    "\n",
    "now=$(date +\"%Y%m%d\")\n",
    "JOB_NAME=edml_trainer_$now\n",
    "echo $JOB_NAME\n",
    "\n",
    "JOB_DIR=${BUCKET}/data/taxi-trips/${JOB_NAME}\n",
    "echo $JOB_DIR\n",
    "\n",
    "REGION=\"europe-west1-b\"\n",
    "echo $REGION\n",
    "\n",
    "OUTDIR=${BUCKET}/data/taxi-trips/model_test\n",
    "echo $OUTDIR"
   ]
  },
  {
   "cell_type": "markdown",
   "metadata": {},
   "source": [
    "## Remote training"
   ]
  },
  {
   "cell_type": "code",
   "execution_count": 21,
   "metadata": {},
   "outputs": [
    {
     "name": "stdout",
     "output_type": "stream",
     "text": [
      "edml\n",
      "gs://edml/data/taxi-trips/sources\n",
      "gs://edml/data/taxi-trips/staging\n"
     ]
    },
    {
     "name": "stderr",
     "output_type": "stream",
     "text": [
      "ERROR: (gcloud.ai-platform.jobs.submit.training) Source directory [/home/jupyter/event-driven-ml/edml-notebooks/gbi/gs:/edml/data/taxi-trips] is not a valid directory.\n"
     ]
    },
    {
     "ename": "CalledProcessError",
     "evalue": "Command 'b'\\nBUCKET=edml\\necho $BUCKET\\nTRAINER_PACKAGE_PATH=gs://${BUCKET}/data/taxi-trips/sources\\necho $TRAINER_PACKAGE_PATH\\nMAIN_TRAINER_MODULE=\"trainer.task\"\\nPACKAGE_STAGING_PATH=gs://${BUCKET}/data/taxi-trips/staging\\necho $PACKAGE_STAGING_PATH\\nnow=$(date +\"%Y%m%d\")\\nJOB_NAME=edml_trainer_$now\\nJOB_DIR=gs://${BUCKET}/data/taxi-trips/${JOB_NAME}\\nREGION=\"europe-west1-b\"\\nOUTDIR=gs://${BUCKET}/data/taxi-trips/model_test\\n# gsutil -m rm -rf $OUTDIR\\n\\ngcloud ai-platform jobs submit training $JOB_NAME \\\\\\n    --job-dir $JOB_DIR \\\\\\n    --package-path $TRAINER_PACKAGE_PATH \\\\\\n    --module-name $MAIN_TRAINER_MODULE \\\\\\n    --region $REGION \\\\\\n    -- \\\\\\n    --bucket=${BUCKET} \\\\\\n    --output-dir=${OUTDIR} \\\\\\n    --pattern=\"*\" \\\\\\n    --train-examples=500 \\\\\\n    --eval-steps=1\\n'' returned non-zero exit status 1",
     "output_type": "error",
     "traceback": [
      "\u001b[0;31m---------------------------------------------------------------------------\u001b[0m",
      "\u001b[0;31mCalledProcessError\u001b[0m                        Traceback (most recent call last)",
      "\u001b[0;32m<ipython-input-21-edbc5bd2d656>\u001b[0m in \u001b[0;36m<module>\u001b[0;34m\u001b[0m\n\u001b[0;32m----> 1\u001b[0;31m \u001b[0mget_ipython\u001b[0m\u001b[0;34m(\u001b[0m\u001b[0;34m)\u001b[0m\u001b[0;34m.\u001b[0m\u001b[0mrun_cell_magic\u001b[0m\u001b[0;34m(\u001b[0m\u001b[0;34m'bash'\u001b[0m\u001b[0;34m,\u001b[0m \u001b[0;34m''\u001b[0m\u001b[0;34m,\u001b[0m \u001b[0;34m'\\nBUCKET=edml\\necho $BUCKET\\nTRAINER_PACKAGE_PATH=gs://${BUCKET}/data/taxi-trips/sources\\necho $TRAINER_PACKAGE_PATH\\nMAIN_TRAINER_MODULE=\"trainer.task\"\\nPACKAGE_STAGING_PATH=gs://${BUCKET}/data/taxi-trips/staging\\necho $PACKAGE_STAGING_PATH\\nnow=$(date +\"%Y%m%d\")\\nJOB_NAME=edml_trainer_$now\\nJOB_DIR=gs://${BUCKET}/data/taxi-trips/${JOB_NAME}\\nREGION=\"europe-west1-b\"\\nOUTDIR=gs://${BUCKET}/data/taxi-trips/model_test\\n# gsutil -m rm -rf $OUTDIR\\n\\ngcloud ai-platform jobs submit training $JOB_NAME \\\\\\n    --job-dir $JOB_DIR \\\\\\n    --package-path $TRAINER_PACKAGE_PATH \\\\\\n    --module-name $MAIN_TRAINER_MODULE \\\\\\n    --region $REGION \\\\\\n    -- \\\\\\n    --bucket=${BUCKET} \\\\\\n    --output-dir=${OUTDIR} \\\\\\n    --pattern=\"*\" \\\\\\n    --train-examples=500 \\\\\\n    --eval-steps=1\\n'\u001b[0m\u001b[0;34m)\u001b[0m\u001b[0;34m\u001b[0m\u001b[0m\n\u001b[0m",
      "\u001b[0;32m/usr/local/lib/python3.5/dist-packages/IPython/core/interactiveshell.py\u001b[0m in \u001b[0;36mrun_cell_magic\u001b[0;34m(self, magic_name, line, cell)\u001b[0m\n\u001b[1;32m   2357\u001b[0m             \u001b[0;32mwith\u001b[0m \u001b[0mself\u001b[0m\u001b[0;34m.\u001b[0m\u001b[0mbuiltin_trap\u001b[0m\u001b[0;34m:\u001b[0m\u001b[0;34m\u001b[0m\u001b[0m\n\u001b[1;32m   2358\u001b[0m                 \u001b[0margs\u001b[0m \u001b[0;34m=\u001b[0m \u001b[0;34m(\u001b[0m\u001b[0mmagic_arg_s\u001b[0m\u001b[0;34m,\u001b[0m \u001b[0mcell\u001b[0m\u001b[0;34m)\u001b[0m\u001b[0;34m\u001b[0m\u001b[0m\n\u001b[0;32m-> 2359\u001b[0;31m                 \u001b[0mresult\u001b[0m \u001b[0;34m=\u001b[0m \u001b[0mfn\u001b[0m\u001b[0;34m(\u001b[0m\u001b[0;34m*\u001b[0m\u001b[0margs\u001b[0m\u001b[0;34m,\u001b[0m \u001b[0;34m**\u001b[0m\u001b[0mkwargs\u001b[0m\u001b[0;34m)\u001b[0m\u001b[0;34m\u001b[0m\u001b[0m\n\u001b[0m\u001b[1;32m   2360\u001b[0m             \u001b[0;32mreturn\u001b[0m \u001b[0mresult\u001b[0m\u001b[0;34m\u001b[0m\u001b[0m\n\u001b[1;32m   2361\u001b[0m \u001b[0;34m\u001b[0m\u001b[0m\n",
      "\u001b[0;32m/usr/local/lib/python3.5/dist-packages/IPython/core/magics/script.py\u001b[0m in \u001b[0;36mnamed_script_magic\u001b[0;34m(line, cell)\u001b[0m\n\u001b[1;32m    140\u001b[0m             \u001b[0;32melse\u001b[0m\u001b[0;34m:\u001b[0m\u001b[0;34m\u001b[0m\u001b[0m\n\u001b[1;32m    141\u001b[0m                 \u001b[0mline\u001b[0m \u001b[0;34m=\u001b[0m \u001b[0mscript\u001b[0m\u001b[0;34m\u001b[0m\u001b[0m\n\u001b[0;32m--> 142\u001b[0;31m             \u001b[0;32mreturn\u001b[0m \u001b[0mself\u001b[0m\u001b[0;34m.\u001b[0m\u001b[0mshebang\u001b[0m\u001b[0;34m(\u001b[0m\u001b[0mline\u001b[0m\u001b[0;34m,\u001b[0m \u001b[0mcell\u001b[0m\u001b[0;34m)\u001b[0m\u001b[0;34m\u001b[0m\u001b[0m\n\u001b[0m\u001b[1;32m    143\u001b[0m \u001b[0;34m\u001b[0m\u001b[0m\n\u001b[1;32m    144\u001b[0m         \u001b[0;31m# write a basic docstring:\u001b[0m\u001b[0;34m\u001b[0m\u001b[0;34m\u001b[0m\u001b[0m\n",
      "\u001b[0;32m</usr/local/lib/python3.5/dist-packages/decorator.py:decorator-gen-110>\u001b[0m in \u001b[0;36mshebang\u001b[0;34m(self, line, cell)\u001b[0m\n",
      "\u001b[0;32m/usr/local/lib/python3.5/dist-packages/IPython/core/magic.py\u001b[0m in \u001b[0;36m<lambda>\u001b[0;34m(f, *a, **k)\u001b[0m\n\u001b[1;32m    185\u001b[0m     \u001b[0;31m# but it's overkill for just that one bit of state.\u001b[0m\u001b[0;34m\u001b[0m\u001b[0;34m\u001b[0m\u001b[0m\n\u001b[1;32m    186\u001b[0m     \u001b[0;32mdef\u001b[0m \u001b[0mmagic_deco\u001b[0m\u001b[0;34m(\u001b[0m\u001b[0marg\u001b[0m\u001b[0;34m)\u001b[0m\u001b[0;34m:\u001b[0m\u001b[0;34m\u001b[0m\u001b[0m\n\u001b[0;32m--> 187\u001b[0;31m         \u001b[0mcall\u001b[0m \u001b[0;34m=\u001b[0m \u001b[0;32mlambda\u001b[0m \u001b[0mf\u001b[0m\u001b[0;34m,\u001b[0m \u001b[0;34m*\u001b[0m\u001b[0ma\u001b[0m\u001b[0;34m,\u001b[0m \u001b[0;34m**\u001b[0m\u001b[0mk\u001b[0m\u001b[0;34m:\u001b[0m \u001b[0mf\u001b[0m\u001b[0;34m(\u001b[0m\u001b[0;34m*\u001b[0m\u001b[0ma\u001b[0m\u001b[0;34m,\u001b[0m \u001b[0;34m**\u001b[0m\u001b[0mk\u001b[0m\u001b[0;34m)\u001b[0m\u001b[0;34m\u001b[0m\u001b[0m\n\u001b[0m\u001b[1;32m    188\u001b[0m \u001b[0;34m\u001b[0m\u001b[0m\n\u001b[1;32m    189\u001b[0m         \u001b[0;32mif\u001b[0m \u001b[0mcallable\u001b[0m\u001b[0;34m(\u001b[0m\u001b[0marg\u001b[0m\u001b[0;34m)\u001b[0m\u001b[0;34m:\u001b[0m\u001b[0;34m\u001b[0m\u001b[0m\n",
      "\u001b[0;32m/usr/local/lib/python3.5/dist-packages/IPython/core/magics/script.py\u001b[0m in \u001b[0;36mshebang\u001b[0;34m(self, line, cell)\u001b[0m\n\u001b[1;32m    243\u001b[0m             \u001b[0msys\u001b[0m\u001b[0;34m.\u001b[0m\u001b[0mstderr\u001b[0m\u001b[0;34m.\u001b[0m\u001b[0mflush\u001b[0m\u001b[0;34m(\u001b[0m\u001b[0;34m)\u001b[0m\u001b[0;34m\u001b[0m\u001b[0m\n\u001b[1;32m    244\u001b[0m         \u001b[0;32mif\u001b[0m \u001b[0margs\u001b[0m\u001b[0;34m.\u001b[0m\u001b[0mraise_error\u001b[0m \u001b[0;32mand\u001b[0m \u001b[0mp\u001b[0m\u001b[0;34m.\u001b[0m\u001b[0mreturncode\u001b[0m\u001b[0;34m!=\u001b[0m\u001b[0;36m0\u001b[0m\u001b[0;34m:\u001b[0m\u001b[0;34m\u001b[0m\u001b[0m\n\u001b[0;32m--> 245\u001b[0;31m             \u001b[0;32mraise\u001b[0m \u001b[0mCalledProcessError\u001b[0m\u001b[0;34m(\u001b[0m\u001b[0mp\u001b[0m\u001b[0;34m.\u001b[0m\u001b[0mreturncode\u001b[0m\u001b[0;34m,\u001b[0m \u001b[0mcell\u001b[0m\u001b[0;34m,\u001b[0m \u001b[0moutput\u001b[0m\u001b[0;34m=\u001b[0m\u001b[0mout\u001b[0m\u001b[0;34m,\u001b[0m \u001b[0mstderr\u001b[0m\u001b[0;34m=\u001b[0m\u001b[0merr\u001b[0m\u001b[0;34m)\u001b[0m\u001b[0;34m\u001b[0m\u001b[0m\n\u001b[0m\u001b[1;32m    246\u001b[0m \u001b[0;34m\u001b[0m\u001b[0m\n\u001b[1;32m    247\u001b[0m     \u001b[0;32mdef\u001b[0m \u001b[0m_run_script\u001b[0m\u001b[0;34m(\u001b[0m\u001b[0mself\u001b[0m\u001b[0;34m,\u001b[0m \u001b[0mp\u001b[0m\u001b[0;34m,\u001b[0m \u001b[0mcell\u001b[0m\u001b[0;34m,\u001b[0m \u001b[0mto_close\u001b[0m\u001b[0;34m)\u001b[0m\u001b[0;34m:\u001b[0m\u001b[0;34m\u001b[0m\u001b[0m\n",
      "\u001b[0;31mCalledProcessError\u001b[0m: Command 'b'\\nBUCKET=edml\\necho $BUCKET\\nTRAINER_PACKAGE_PATH=gs://${BUCKET}/data/taxi-trips/sources\\necho $TRAINER_PACKAGE_PATH\\nMAIN_TRAINER_MODULE=\"trainer.task\"\\nPACKAGE_STAGING_PATH=gs://${BUCKET}/data/taxi-trips/staging\\necho $PACKAGE_STAGING_PATH\\nnow=$(date +\"%Y%m%d\")\\nJOB_NAME=edml_trainer_$now\\nJOB_DIR=gs://${BUCKET}/data/taxi-trips/${JOB_NAME}\\nREGION=\"europe-west1-b\"\\nOUTDIR=gs://${BUCKET}/data/taxi-trips/model_test\\n# gsutil -m rm -rf $OUTDIR\\n\\ngcloud ai-platform jobs submit training $JOB_NAME \\\\\\n    --job-dir $JOB_DIR \\\\\\n    --package-path $TRAINER_PACKAGE_PATH \\\\\\n    --module-name $MAIN_TRAINER_MODULE \\\\\\n    --region $REGION \\\\\\n    -- \\\\\\n    --bucket=${BUCKET} \\\\\\n    --output-dir=${OUTDIR} \\\\\\n    --pattern=\"*\" \\\\\\n    --train-examples=500 \\\\\\n    --eval-steps=1\\n'' returned non-zero exit status 1"
     ]
    }
   ],
   "source": [
    "%%bash\n",
    "\n",
    "BUCKET=edml\n",
    "echo $BUCKET\n",
    "TRAINER_PACKAGE_PATH=gs://${BUCKET}/data/taxi-trips/sources\n",
    "echo $TRAINER_PACKAGE_PATH\n",
    "MAIN_TRAINER_MODULE=\"trainer.task\"\n",
    "PACKAGE_STAGING_PATH=gs://${BUCKET}/data/taxi-trips/staging\n",
    "echo $PACKAGE_STAGING_PATH\n",
    "now=$(date +\"%Y%m%d\")\n",
    "JOB_NAME=edml_trainer_$now\n",
    "JOB_DIR=gs://${BUCKET}/data/taxi-trips/${JOB_NAME}\n",
    "REGION=\"europe-west1-b\"\n",
    "OUTDIR=gs://${BUCKET}/data/taxi-trips/model_test\n",
    "# gsutil -m rm -rf $OUTDIR\n",
    "\n",
    "gcloud ai-platform jobs submit training $JOB_NAME \\\n",
    "    --staging-bucket $PACKAGE_STAGING_PATH \\\n",
    "    --job-dir $JOB_DIR \\\n",
    "    --package-path $TRAINER_PACKAGE_PATH \\\n",
    "    --module-name $MAIN_TRAINER_MODULE \\\n",
    "    --region $REGION \\\n",
    "    -- \\\n",
    "    --bucket=${BUCKET} \\\n",
    "    --output-dir=${OUTDIR} \\\n",
    "    --pattern=\"*\" \\\n",
    "    --train-examples=500 \\\n",
    "    --eval-steps=1"
   ]
  },
  {
   "cell_type": "code",
   "execution_count": null,
   "metadata": {},
   "outputs": [],
   "source": [
    "from google.datalab.ml import TensorBoard"
   ]
  },
  {
   "cell_type": "code",
   "execution_count": 25,
   "metadata": {},
   "outputs": [
    {
     "data": {
      "text/html": [
       "<p>TensorBoard was started successfully with pid 3973. Click <a href=\"/_proxy/42081/\" target=\"_blank\">here</a> to access it.</p>"
      ]
     },
     "metadata": {},
     "output_type": "display_data"
    },
    {
     "data": {
      "text/html": [
       "<div>\n",
       "<style scoped>\n",
       "    .dataframe tbody tr th:only-of-type {\n",
       "        vertical-align: middle;\n",
       "    }\n",
       "\n",
       "    .dataframe tbody tr th {\n",
       "        vertical-align: top;\n",
       "    }\n",
       "\n",
       "    .dataframe thead th {\n",
       "        text-align: right;\n",
       "    }\n",
       "</style>\n",
       "<table border=\"1\" class=\"dataframe\">\n",
       "  <thead>\n",
       "    <tr style=\"text-align: right;\">\n",
       "      <th></th>\n",
       "      <th>logdir</th>\n",
       "      <th>pid</th>\n",
       "      <th>port</th>\n",
       "    </tr>\n",
       "  </thead>\n",
       "  <tbody>\n",
       "    <tr>\n",
       "      <td>0</td>\n",
       "      <td>./model_trained_test</td>\n",
       "      <td>3973</td>\n",
       "      <td>42081</td>\n",
       "    </tr>\n",
       "  </tbody>\n",
       "</table>\n",
       "</div>"
      ],
      "text/plain": [
       "                 logdir   pid   port\n",
       "0  ./model_trained_test  3973  42081"
      ]
     },
     "execution_count": 25,
     "metadata": {},
     "output_type": "execute_result"
    }
   ],
   "source": [
    "TensorBoard().start('./model_trained_test')\n",
    "TensorBoard().list()"
   ]
  },
  {
   "cell_type": "code",
   "execution_count": 26,
   "metadata": {},
   "outputs": [
    {
     "name": "stdout",
     "output_type": "stream",
     "text": [
      "Stopped TensorBoard with pid 3973\n"
     ]
    }
   ],
   "source": [
    "for pid in TensorBoard.list()['pid']:\n",
    "    TensorBoard().stop(pid)\n",
    "    print('Stopped TensorBoard with pid {}'.format(pid))"
   ]
  },
  {
   "cell_type": "code",
   "execution_count": 11,
   "metadata": {},
   "outputs": [
    {
     "name": "stdout",
     "output_type": "stream",
     "text": [
      "Process is terminated.\n"
     ]
    }
   ],
   "source": [
    "# %%bash\n",
    "# export MODEL_DIR=tmp_tensorboard\n",
    "# tensorboard --logdir=$MODEL_DIR --port=6006"
   ]
  }
 ],
 "metadata": {
  "kernelspec": {
   "display_name": "Python 3",
   "language": "python",
   "name": "python3"
  },
  "language_info": {
   "codemirror_mode": {
    "name": "ipython",
    "version": 3
   },
   "file_extension": ".py",
   "mimetype": "text/x-python",
   "name": "python",
   "nbconvert_exporter": "python",
   "pygments_lexer": "ipython3",
   "version": "3.5.3"
  }
 },
 "nbformat": 4,
 "nbformat_minor": 4
}

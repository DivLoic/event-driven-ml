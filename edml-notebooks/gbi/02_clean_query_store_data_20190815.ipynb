{
 "cells": [
  {
   "cell_type": "markdown",
   "metadata": {},
   "source": [
    "# Read data from bigquery and write them in GCS\n",
    "\n",
    "Original data from public dataset in bigquery: bigquery-public-data.new_york_taxi_trips.tlc_yellow_trips_2018.\n",
    "\n",
    "* create query to clean data and keep only columns I need\n",
    "* create bigquery dataset within `event-driven-ml` project\n",
    "* save dataset as partitioned csv in GCS (I don't know if I need this step yet)"
   ]
  },
  {
   "cell_type": "code",
   "execution_count": 1,
   "metadata": {},
   "outputs": [],
   "source": [
    "from google.cloud import bigquery as bq"
   ]
  },
  {
   "cell_type": "code",
   "execution_count": 2,
   "metadata": {},
   "outputs": [],
   "source": [
    "bq_client = bq.Client()"
   ]
  },
  {
   "cell_type": "code",
   "execution_count": 3,
   "metadata": {},
   "outputs": [],
   "source": [
    "import os\n",
    "PROJECT = 'event-driven-ml'    # CHANGE THIS\n",
    "BUCKET = 'edml/data/taxi-trips' # REPLACE WITH YOUR BUCKET NAME. Use a regional bucket in the region you selected.\n",
    "REGION = 'eu' # Choose an available region for Cloud MLE from https://cloud.google.com/ml-engine/docs/regions.\n",
    "\n",
    "# for bash\n",
    "os.environ['PROJECT'] = PROJECT\n",
    "os.environ['BUCKET'] = BUCKET\n",
    "os.environ['REGION'] = REGION"
   ]
  },
  {
   "cell_type": "code",
   "execution_count": 4,
   "metadata": {},
   "outputs": [
    {
     "name": "stderr",
     "output_type": "stream",
     "text": [
      "Updated property [core/project].\n",
      "WARNING: You do not appear to have access to project [event-driven-ml] or it does not exist.\n"
     ]
    }
   ],
   "source": [
    "%%bash\n",
    "gcloud config set project $PROJECT"
   ]
  },
  {
   "cell_type": "markdown",
   "metadata": {},
   "source": [
    "## TRAINING SET"
   ]
  },
  {
   "cell_type": "code",
   "execution_count": 12,
   "metadata": {
    "collapsed": true,
    "jupyter": {
     "outputs_hidden": true
    }
   },
   "outputs": [
    {
     "name": "stdout",
     "output_type": "stream",
     "text": [
      "\n",
      "+-----------+-----------+---------------+--------------------+---------------------+\n",
      "| dayofweek | hourofday | trip_duration | pickup_location_id | dropoff_location_id |\n",
      "+-----------+-----------+---------------+--------------------+---------------------+\n",
      "|         7 |         0 |            17 |                 80 |                  89 |\n",
      "|         7 |         0 |            18 |                 41 |                  45 |\n",
      "|         1 |         0 |            23 |                 88 |                 163 |\n",
      "|         2 |         0 |            13 |                 25 |                 133 |\n",
      "|         7 |         0 |            28 |                 88 |                  67 |\n",
      "|         2 |         0 |            30 |                 49 |                 112 |\n",
      "|         7 |         0 |            27 |                  7 |                 216 |\n",
      "|         7 |         0 |            33 |                193 |                 225 |\n",
      "|         7 |         0 |            40 |                 74 |                   7 |\n",
      "|         1 |         0 |            23 |                  4 |                  41 |\n",
      "|         2 |         0 |            13 |                119 |                  41 |\n",
      "|         4 |         0 |            14 |                 33 |                 249 |\n",
      "|         3 |         0 |            18 |                 88 |                 263 |\n",
      "|         4 |         0 |            32 |                 83 |                  76 |\n",
      "|         1 |         0 |            14 |                 89 |                 181 |\n",
      "|         6 |         0 |            25 |                 24 |                  79 |\n",
      "|         1 |         0 |            19 |                181 |                  26 |\n",
      "|         4 |         0 |            17 |                 24 |                 200 |\n",
      "|         6 |         0 |             1 |                116 |                  42 |\n",
      "|         2 |         0 |            17 |                223 |                  37 |\n",
      "|         2 |         0 |             1 |                 74 |                  74 |\n",
      "|         1 |         0 |            57 |                 41 |                 245 |\n",
      "|         3 |         0 |            35 |                 45 |                 220 |\n",
      "|         3 |         0 |            24 |                232 |                 119 |\n",
      "|         1 |         0 |            15 |                209 |                  74 |\n",
      "|         2 |         0 |            24 |                 45 |                 129 |\n",
      "|         6 |         0 |            11 |                 88 |                 233 |\n",
      "|         4 |         0 |            18 |                255 |                  36 |\n",
      "|         6 |         0 |            24 |                 97 |                  75 |\n",
      "|         1 |         0 |            32 |                  4 |                 239 |\n",
      "|         3 |         0 |            22 |                 97 |                 164 |\n",
      "|         4 |         0 |            25 |                  4 |                  41 |\n",
      "|         6 |         0 |            29 |                232 |                 151 |\n",
      "|         5 |         0 |            24 |                146 |                 205 |\n",
      "|         7 |         0 |            35 |                 36 |                  50 |\n",
      "|         5 |         0 |            17 |                226 |                  42 |\n",
      "|         6 |         0 |            15 |                 24 |                 244 |\n",
      "|         7 |         0 |            26 |                 28 |                 141 |\n",
      "|         6 |         0 |            22 |                 25 |                  14 |\n",
      "|         1 |         0 |            26 |                 76 |                 123 |\n",
      "|         5 |         0 |            22 |                232 |                  43 |\n",
      "|         2 |         0 |            11 |                146 |                  75 |\n",
      "|         4 |         0 |            26 |                256 |                 235 |\n",
      "|         1 |         0 |            24 |                254 |                 235 |\n",
      "|         7 |         0 |            32 |                 65 |                 133 |\n",
      "|         1 |         0 |            30 |                 37 |                 181 |\n",
      "|         2 |         0 |            19 |                 49 |                  89 |\n",
      "|         1 |         0 |            78 |                130 |                 129 |\n",
      "|         1 |         0 |            10 |                 82 |                 162 |\n",
      "|         1 |         0 |            20 |                255 |                   7 |\n",
      "|         6 |         0 |             1 |                128 |                 127 |\n",
      "|         1 |         0 |            32 |                145 |                  82 |\n",
      "|         6 |         0 |             1 |                 74 |                  74 |\n",
      "|         4 |         0 |            26 |                  7 |                 265 |\n",
      "|         1 |         0 |            40 |                112 |                  42 |\n",
      "|         6 |         0 |            22 |                 24 |                 144 |\n",
      "|         5 |         0 |             1 |                 41 |                  41 |\n",
      "|         1 |         0 |            27 |                209 |                 116 |\n",
      "|         1 |         0 |            18 |                256 |                 170 |\n",
      "|         7 |         0 |            16 |                209 |                 181 |\n",
      "|         1 |         0 |            21 |                112 |                 181 |\n",
      "|         2 |         0 |            35 |                 80 |                  25 |\n",
      "|         7 |         0 |            44 |                181 |                 239 |\n",
      "|         1 |         0 |            38 |                181 |                 156 |\n",
      "|         6 |         0 |            16 |                 69 |                 200 |\n",
      "|         7 |         0 |            25 |                232 |                  37 |\n",
      "|         1 |         0 |            16 |                209 |                  74 |\n",
      "|         6 |         0 |            28 |                 88 |                 151 |\n",
      "|         5 |         0 |            11 |                 88 |                  79 |\n",
      "|         7 |         0 |            27 |                 88 |                 238 |\n",
      "|         4 |         0 |            22 |                209 |                  24 |\n",
      "|         5 |         0 |            24 |                112 |                  48 |\n",
      "|         6 |         0 |            15 |                 74 |                 232 |\n",
      "|         3 |         0 |            21 |                 65 |                  48 |\n",
      "|         1 |         0 |            20 |                232 |                 234 |\n",
      "|         2 |         0 |            17 |                 45 |                  26 |\n",
      "|         1 |         0 |            50 |                116 |                 224 |\n",
      "|         7 |         0 |             2 |                 88 |                  87 |\n",
      "|         1 |         0 |            14 |                168 |                  60 |\n",
      "|         1 |         0 |            33 |                181 |                 198 |\n",
      "|         2 |         0 |            20 |                223 |                 163 |\n",
      "|         5 |         0 |            21 |                 88 |                 181 |\n",
      "|         5 |         0 |            25 |                  4 |                  41 |\n",
      "|         7 |         0 |            26 |                146 |                  37 |\n",
      "|         5 |         0 |            19 |                 37 |                   4 |\n",
      "|         1 |         0 |            18 |                 80 |                  37 |\n",
      "|         7 |         0 |            27 |                  4 |                 145 |\n",
      "|         3 |         0 |            30 |                188 |                 125 |\n",
      "|         5 |         0 |            25 |                106 |                  68 |\n",
      "|         7 |         0 |            20 |                145 |                  95 |\n",
      "|         2 |         0 |            11 |                157 |                 144 |\n",
      "|         4 |         0 |             2 |                 40 |                  33 |\n",
      "|         1 |         0 |            21 |                181 |                  79 |\n",
      "|         7 |         0 |            23 |                181 |                  89 |\n",
      "|         7 |         0 |            11 |                  4 |                   4 |\n",
      "|         4 |         0 |            11 |                224 |                 232 |\n",
      "|         1 |         0 |            14 |                 40 |                 257 |\n",
      "|         3 |         0 |            10 |                 41 |                 168 |\n",
      "|         6 |         0 |             8 |                226 |                 112 |\n",
      "|         1 |         0 |             7 |                 41 |                  74 |\n",
      "+-----------+-----------+---------------+--------------------+---------------------+\n"
     ]
    },
    {
     "name": "stderr",
     "output_type": "stream",
     "text": [
      "Waiting on bqjob_r19971faa0b3d2781_0000016ca4711671_1 ... (66s) Current status: DONE   "
     ]
    }
   ],
   "source": [
    "%%bash\n",
    "\n",
    "bq query \\\n",
    "--destination_table event-driven-ml:new_york_taxi_trips.tlc_yellow_trips_2018_train \\\n",
    "--replace \\\n",
    "--use_legacy_sql=false \\\n",
    "--allow_large_results \\\n",
    "'SELECT dayofweek, hourofday, pickup_borough, dropoff_borough, trip_duration FROM\n",
    "(SELECT\n",
    "    pickup_datetime,\n",
    "    dropoff_datetime,\n",
    "    EXTRACT(DAYOFWEEK FROM pickup_datetime) AS dayofweek,\n",
    "    EXTRACT(HOUR FROM pickup_datetime) AS hourofday,\n",
    "    DATETIME_DIFF(dropoff_datetime, pickup_datetime, MINUTE) AS trip_duration,\n",
    "    passenger_count,\n",
    "    CAST(trip_distance AS FLOAT64) AS trip_distance,\n",
    "    CAST(pickup_location_id AS INT64) AS pickup_location_id,\n",
    "    CAST(dropoff_location_id AS INT64) AS dropoff_location_id,\n",
    "    CAST(rate_code AS INT64) AS rate_code,\n",
    "    CAST(payment_type AS INT64) AS payment_type,\n",
    "    CAST(fare_amount AS FLOAT64) AS fare_amount,\n",
    "    CAST(tolls_amount AS FLOAT64) AS tolls_amount,\n",
    "    CASE WHEN tolls_amount > 0.0 THEN 1.0 ELSE 0.0 END AS flag_tolls,\n",
    "    CAST(total_amount AS FLOAT64) AS total_amount\n",
    "FROM\n",
    "    `bigquery-public-data.new_york_taxi_trips.tlc_yellow_trips_2018`\n",
    "WHERE\n",
    "    trip_distance > 0.0\n",
    "    AND trip_distance < 3000.0\n",
    "    AND fare_amount >= 2.5\n",
    "    AND fare_amount < 6000.0\n",
    "    AND total_amount > 0.0\n",
    "    AND total_amount < 6000.0\n",
    "    AND passenger_count > 0\n",
    "    AND EXTRACT(YEAR from pickup_datetime) = 2018\n",
    "    AND DATETIME_DIFF(dropoff_datetime, pickup_datetime, MINUTE) > 0\n",
    "    AND DATETIME_DIFF(dropoff_datetime, pickup_datetime, MINUTE) < 1440 \n",
    "    AND MOD(ABS(FARM_FINGERPRINT(CAST(pickup_datetime AS STRING))), 10) < 8\n",
    ") AS trips\n",
    "\n",
    "INNER JOIN\n",
    "(SELECT DISTINCT CAST(zone_id AS INT64) AS zone_id, zone_name, borough AS pickup_borough FROM \n",
    " `bigquery-public-data.new_york_taxi_trips.taxi_zone_geom`) AS pu_zones\n",
    "ON trips.pickup_location_id = pu_zones.zone_id\n",
    "\n",
    "INNER JOIN (SELECT DISTINCT CAST(zone_id AS INT64) AS zone_id, zone_name, borough AS dropoff_borough FROM\n",
    " `bigquery-public-data.new_york_taxi_trips.taxi_zone_geom`) AS do_zones\n",
    "ON trips.dropoff_location_id = do_zones.zone_id'"
   ]
  },
  {
   "cell_type": "code",
   "execution_count": 19,
   "metadata": {},
   "outputs": [
    {
     "name": "stdout",
     "output_type": "stream",
     "text": [
      "\n"
     ]
    },
    {
     "name": "stderr",
     "output_type": "stream",
     "text": [
      "Waiting on bqjob_r1bd025f531ecdec3_0000016ca4a80698_1 ... (49s) Current status: DONE   "
     ]
    }
   ],
   "source": [
    "%%bash\n",
    "\n",
    "bq extract \\\n",
    "--destination_format CSV \\\n",
    "--compression GZIP \\\n",
    "--field_delimiter ',' \\\n",
    "--print_header=false \\\n",
    "'event-driven-ml:new_york_taxi_trips.tlc_yellow_trips_2018_train' gs://$BUCKET/train/tlc_yellow_trips_2018-000*.csv"
   ]
  },
  {
   "cell_type": "markdown",
   "metadata": {},
   "source": [
    "## TEST SET"
   ]
  },
  {
   "cell_type": "code",
   "execution_count": 14,
   "metadata": {
    "collapsed": true,
    "jupyter": {
     "outputs_hidden": true
    }
   },
   "outputs": [
    {
     "name": "stdout",
     "output_type": "stream",
     "text": [
      "\n",
      "+-----------+-----------+---------------+--------------------+---------------------+\n",
      "| dayofweek | hourofday | trip_duration | pickup_location_id | dropoff_location_id |\n",
      "+-----------+-----------+---------------+--------------------+---------------------+\n",
      "|         7 |         0 |             2 |                255 |                 255 |\n",
      "|         2 |         0 |            26 |                  7 |                 102 |\n",
      "|         5 |         0 |            15 |                 26 |                  14 |\n",
      "|         5 |         0 |            11 |                167 |                 159 |\n",
      "|         5 |         0 |             6 |                116 |                  42 |\n",
      "|         6 |         0 |             8 |                 12 |                  87 |\n",
      "|         7 |         0 |            12 |                224 |                  79 |\n",
      "|         6 |         0 |             4 |                209 |                  45 |\n",
      "|         1 |         0 |            24 |                181 |                  79 |\n",
      "|         7 |         0 |             9 |                 95 |                 135 |\n",
      "|         1 |         0 |            10 |                 65 |                 233 |\n",
      "|         5 |         0 |            16 |                 61 |                  79 |\n",
      "|         1 |         0 |            24 |                 25 |                 146 |\n",
      "|         1 |         0 |            38 |                 74 |                 181 |\n",
      "|         1 |         0 |             7 |                129 |                 260 |\n",
      "|         6 |         0 |             6 |                 88 |                 209 |\n",
      "|         1 |         0 |             2 |                 80 |                  80 |\n",
      "|         7 |         0 |             7 |                181 |                 181 |\n",
      "|         1 |         0 |             5 |                 41 |                  42 |\n",
      "|         7 |         0 |            15 |                255 |                 148 |\n",
      "|         6 |         0 |             6 |                146 |                   7 |\n",
      "|         1 |         0 |             8 |                255 |                 112 |\n",
      "|         6 |         0 |             4 |                 42 |                  43 |\n",
      "|         5 |         0 |             5 |                255 |                  80 |\n",
      "|         6 |         0 |             5 |                112 |                  80 |\n",
      "|         5 |         0 |            26 |                 88 |                  36 |\n",
      "|         6 |         0 |             1 |                 40 |                  40 |\n",
      "|         1 |         0 |          1431 |                198 |                 113 |\n",
      "|         3 |         0 |             1 |                265 |                 265 |\n",
      "|         7 |         0 |            19 |                  7 |                 142 |\n",
      "|         7 |         0 |             6 |                 74 |                  41 |\n",
      "|         4 |         0 |             9 |                220 |                 265 |\n",
      "|         1 |         0 |            12 |                 52 |                 189 |\n",
      "|         7 |         0 |            16 |                232 |                 112 |\n",
      "|         6 |         0 |            10 |                232 |                 158 |\n",
      "|         1 |         0 |             4 |                224 |                 107 |\n",
      "|         2 |         0 |             3 |                 74 |                  41 |\n",
      "|         5 |         0 |            12 |                 41 |                 239 |\n",
      "|         7 |         0 |            13 |                 41 |                  42 |\n",
      "|         6 |         0 |             8 |                146 |                   7 |\n",
      "|         5 |         0 |             3 |                181 |                 181 |\n",
      "|         1 |         0 |            13 |                244 |                  48 |\n",
      "|         5 |         0 |             1 |                 74 |                  75 |\n",
      "|         1 |         0 |            16 |                  4 |                  90 |\n",
      "|         7 |         0 |             8 |                 45 |                 148 |\n",
      "|         6 |         0 |            19 |                 36 |                  25 |\n",
      "|         1 |         0 |            16 |                  4 |                  33 |\n",
      "|         4 |         0 |            14 |                224 |                 114 |\n",
      "|         3 |         0 |             9 |                146 |                   7 |\n",
      "|         5 |         0 |             5 |                209 |                 148 |\n",
      "|         5 |         0 |            10 |                146 |                 223 |\n",
      "|         3 |         0 |             2 |                 41 |                  43 |\n",
      "|         2 |         0 |            16 |                 45 |                 234 |\n",
      "|         5 |         0 |             4 |                255 |                 255 |\n",
      "|         7 |         0 |            15 |                112 |                 181 |\n",
      "|         2 |         0 |             2 |                 74 |                  74 |\n",
      "|         4 |         0 |            22 |                  4 |                  97 |\n",
      "|         3 |         0 |            13 |                  7 |                 196 |\n",
      "|         6 |         0 |            13 |                 97 |                  80 |\n",
      "|         7 |         0 |            15 |                 10 |                  76 |\n",
      "|         5 |         0 |            20 |                 42 |                 169 |\n",
      "|         5 |         0 |            13 |                  7 |                 229 |\n",
      "|         5 |         0 |            11 |                223 |                 173 |\n",
      "|         4 |         0 |             5 |                181 |                  65 |\n",
      "|         1 |         0 |            22 |                255 |                 249 |\n",
      "|         2 |         0 |            14 |                 24 |                 244 |\n",
      "|         7 |         0 |            11 |                145 |                   7 |\n",
      "|         6 |         0 |             2 |                145 |                 112 |\n",
      "|         3 |         0 |            18 |                  7 |                  25 |\n",
      "|         6 |         0 |            18 |                 45 |                 236 |\n",
      "|         7 |         0 |             1 |                265 |                 265 |\n",
      "|         7 |         0 |            19 |                  7 |                  95 |\n",
      "|         1 |         0 |            21 |                  4 |                 238 |\n",
      "|         7 |         0 |            19 |                 37 |                  33 |\n",
      "|         7 |         0 |            18 |                 41 |                  41 |\n",
      "|         7 |         0 |            12 |                 37 |                 198 |\n",
      "|         7 |         0 |            13 |                 97 |                 181 |\n",
      "|         4 |         0 |             8 |                226 |                   7 |\n",
      "|         1 |         0 |             8 |                146 |                   7 |\n",
      "|         1 |         0 |             3 |                 74 |                  75 |\n",
      "|         1 |         0 |             3 |                 42 |                  41 |\n",
      "|         3 |         0 |            15 |                 24 |                  90 |\n",
      "|         4 |         0 |            10 |                 41 |                  48 |\n",
      "|         1 |         0 |             7 |                227 |                  22 |\n",
      "|         6 |         0 |             8 |                116 |                  41 |\n",
      "|         2 |         0 |             9 |                 92 |                 223 |\n",
      "|         7 |         0 |            15 |                232 |                 263 |\n",
      "|         4 |         0 |            23 |                 88 |                 265 |\n",
      "|         4 |         0 |            25 |                 41 |                 157 |\n",
      "|         1 |         0 |            27 |                256 |                 162 |\n",
      "|         2 |         0 |            24 |                 70 |                  50 |\n",
      "|         1 |         0 |            12 |                 45 |                 148 |\n",
      "|         1 |         0 |            22 |                255 |                 137 |\n",
      "|         3 |         0 |            15 |                232 |                 198 |\n",
      "|         1 |         0 |             5 |                112 |                 112 |\n",
      "|         7 |         0 |            22 |                145 |                 173 |\n",
      "|         3 |         0 |            26 |                209 |                 116 |\n",
      "|         7 |         0 |            30 |                 45 |                 116 |\n",
      "|         5 |         0 |            15 |                256 |                 209 |\n",
      "|         5 |         0 |            10 |                226 |                  82 |\n",
      "+-----------+-----------+---------------+--------------------+---------------------+\n"
     ]
    },
    {
     "name": "stderr",
     "output_type": "stream",
     "text": [
      "Waiting on bqjob_r109edc43619f815b_0000016ca4741131_1 ... (49s) Current status: DONE   "
     ]
    }
   ],
   "source": [
    "%%bash\n",
    "\n",
    "bq query \\\n",
    "--destination_table event-driven-ml:new_york_taxi_trips.tlc_yellow_trips_2018_test \\\n",
    "--replace \\\n",
    "--use_legacy_sql=false \\\n",
    "--allow_large_results \\\n",
    "'SELECT dayofweek, hourofday, pickup_borough, dropoff_borough, trip_duration FROM\n",
    "(SELECT\n",
    "    pickup_datetime,\n",
    "    dropoff_datetime,\n",
    "    EXTRACT(DAYOFWEEK FROM pickup_datetime) AS dayofweek,\n",
    "    EXTRACT(HOUR FROM pickup_datetime) AS hourofday,\n",
    "    DATETIME_DIFF(dropoff_datetime, pickup_datetime, MINUTE) AS trip_duration,\n",
    "    passenger_count,\n",
    "    CAST(trip_distance AS FLOAT64) AS trip_distance,\n",
    "    CAST(pickup_location_id AS INT64) AS pickup_location_id,\n",
    "    CAST(dropoff_location_id AS INT64) AS dropoff_location_id,\n",
    "    CAST(rate_code AS INT64) AS rate_code,\n",
    "    CAST(payment_type AS INT64) AS payment_type,\n",
    "    CAST(fare_amount AS FLOAT64) AS fare_amount,\n",
    "    CAST(tolls_amount AS FLOAT64) AS tolls_amount,\n",
    "    CASE WHEN tolls_amount > 0.0 THEN 1.0 ELSE 0.0 END AS flag_tolls,\n",
    "    CAST(total_amount AS FLOAT64) AS total_amount\n",
    "FROM\n",
    "    `bigquery-public-data.new_york_taxi_trips.tlc_yellow_trips_2018`\n",
    "WHERE\n",
    "    trip_distance > 0.0\n",
    "    AND trip_distance < 3000.0\n",
    "    AND fare_amount >= 2.5\n",
    "    AND fare_amount < 6000.0\n",
    "    AND total_amount > 0.0\n",
    "    AND total_amount < 6000.0\n",
    "    AND passenger_count > 0\n",
    "    AND EXTRACT(YEAR from pickup_datetime) = 2018\n",
    "    AND DATETIME_DIFF(dropoff_datetime, pickup_datetime, MINUTE) > 0\n",
    "    AND DATETIME_DIFF(dropoff_datetime, pickup_datetime, MINUTE) < 1440 \n",
    "    AND MOD(ABS(FARM_FINGERPRINT(CAST(pickup_datetime AS STRING))), 10) = 8\n",
    ") AS trips\n",
    "\n",
    "INNER JOIN\n",
    "(SELECT DISTINCT CAST(zone_id AS INT64) AS zone_id, zone_name, borough AS pickup_borough FROM \n",
    " `bigquery-public-data.new_york_taxi_trips.taxi_zone_geom`) AS pu_zones\n",
    "ON trips.pickup_location_id = pu_zones.zone_id\n",
    "\n",
    "INNER JOIN (SELECT DISTINCT CAST(zone_id AS INT64) AS zone_id, zone_name, borough AS dropoff_borough FROM\n",
    " `bigquery-public-data.new_york_taxi_trips.taxi_zone_geom`) AS do_zones\n",
    "ON trips.dropoff_location_id = do_zones.zone_id'"
   ]
  },
  {
   "cell_type": "code",
   "execution_count": 20,
   "metadata": {},
   "outputs": [
    {
     "name": "stdout",
     "output_type": "stream",
     "text": [
      "\n"
     ]
    },
    {
     "name": "stderr",
     "output_type": "stream",
     "text": [
      "Waiting on bqjob_r20f6ded4de78eb14_0000016ca4a9582b_1 ... (35s) Current status: DONE   "
     ]
    }
   ],
   "source": [
    "%%bash\n",
    "\n",
    "bq extract \\\n",
    "--destination_format CSV \\\n",
    "--compression GZIP \\\n",
    "--field_delimiter ',' \\\n",
    "--print_header=false \\\n",
    "'event-driven-ml:new_york_taxi_trips.tlc_yellow_trips_2018_test' gs://$BUCKET/test/tlc_yellow_trips_2018-000*.csv"
   ]
  },
  {
   "cell_type": "markdown",
   "metadata": {},
   "source": [
    "## VALIDATION SET"
   ]
  },
  {
   "cell_type": "code",
   "execution_count": 16,
   "metadata": {
    "collapsed": true,
    "jupyter": {
     "outputs_hidden": true
    }
   },
   "outputs": [
    {
     "name": "stdout",
     "output_type": "stream",
     "text": [
      "\n",
      "+-----------+-----------+---------------+--------------------+---------------------+\n",
      "| dayofweek | hourofday | trip_duration | pickup_location_id | dropoff_location_id |\n",
      "+-----------+-----------+---------------+--------------------+---------------------+\n",
      "|         7 |         0 |            20 |                146 |                 209 |\n",
      "|         7 |         0 |            29 |                 97 |                  90 |\n",
      "|         1 |         0 |            23 |                 42 |                 119 |\n",
      "|         4 |         0 |             9 |                 88 |                 144 |\n",
      "|         7 |         0 |            10 |                 80 |                 217 |\n",
      "|         2 |         0 |            15 |                181 |                 228 |\n",
      "|         2 |         0 |             9 |                145 |                 112 |\n",
      "|         4 |         0 |             1 |                 74 |                  75 |\n",
      "|         2 |         0 |            15 |                181 |                  37 |\n",
      "|         3 |         0 |            10 |                112 |                 146 |\n",
      "|         7 |         0 |            10 |                 37 |                  17 |\n",
      "|         1 |         0 |             5 |                 74 |                  41 |\n",
      "|         5 |         0 |             2 |                152 |                 152 |\n",
      "|         5 |         0 |             2 |                 61 |                  61 |\n",
      "|         1 |         0 |             9 |                255 |                 112 |\n",
      "|         7 |         0 |             3 |                 74 |                  75 |\n",
      "|         7 |         0 |            27 |                181 |                 164 |\n",
      "|         5 |         0 |            25 |                 36 |                 197 |\n",
      "|         1 |         0 |            32 |                  7 |                  62 |\n",
      "|         7 |         0 |             6 |                 88 |                  87 |\n",
      "|         1 |         0 |             1 |                193 |                 193 |\n",
      "|         1 |         0 |            24 |                255 |                 107 |\n",
      "|         3 |         0 |            19 |                 45 |                  89 |\n",
      "|         6 |         0 |            10 |                 97 |                  61 |\n",
      "|         1 |         0 |             4 |                116 |                 166 |\n",
      "|         6 |         0 |            10 |                232 |                 112 |\n",
      "|         5 |         0 |             2 |                 82 |                 160 |\n",
      "|         1 |         0 |             3 |                 74 |                  41 |\n",
      "|         1 |         0 |            10 |                  4 |                 261 |\n",
      "|         6 |         0 |            13 |                256 |                  36 |\n",
      "|         7 |         0 |            12 |                 45 |                 148 |\n",
      "|         7 |         0 |             9 |                 25 |                  54 |\n",
      "|         6 |         0 |             7 |                145 |                 112 |\n",
      "|         3 |         0 |             4 |                 33 |                  25 |\n",
      "|         7 |         0 |             4 |                129 |                 129 |\n",
      "|         1 |         0 |            33 |                 41 |                 144 |\n",
      "|         6 |         0 |            21 |                  7 |                  82 |\n",
      "|         4 |         0 |            11 |                232 |                 186 |\n",
      "|         1 |         0 |             7 |                  7 |                   7 |\n",
      "|         6 |         0 |            10 |                256 |                 198 |\n",
      "|         7 |         0 |             7 |                181 |                  49 |\n",
      "|         6 |         0 |             4 |                189 |                  61 |\n",
      "|         1 |         0 |             6 |                257 |                 133 |\n",
      "|         3 |         0 |            17 |                 41 |                  69 |\n",
      "|         7 |         0 |            10 |                224 |                 140 |\n",
      "|         1 |         0 |             2 |                  7 |                   7 |\n",
      "|         6 |         0 |             4 |                223 |                   7 |\n",
      "|         5 |         0 |            15 |                 41 |                 136 |\n",
      "|         1 |         0 |            26 |                 88 |                 255 |\n",
      "|         6 |         0 |            25 |                152 |                  18 |\n",
      "|         6 |         0 |            26 |                 28 |                 249 |\n",
      "|         7 |         0 |            27 |                134 |                 230 |\n",
      "|         6 |         0 |             9 |                181 |                 188 |\n",
      "|         2 |         0 |             6 |                  7 |                   7 |\n",
      "|         7 |         0 |             5 |                226 |                 260 |\n",
      "|         7 |         0 |             2 |                146 |                   7 |\n",
      "|         2 |         0 |            25 |                 24 |                 262 |\n",
      "|         7 |         0 |            21 |                 45 |                 230 |\n",
      "|         1 |         0 |             4 |                 80 |                 112 |\n",
      "|         7 |         0 |            26 |                 88 |                 239 |\n",
      "|         4 |         0 |            21 |                112 |                 230 |\n",
      "|         7 |         0 |            15 |                  4 |                 140 |\n",
      "|         1 |         0 |             8 |                145 |                 179 |\n",
      "|         7 |         0 |             6 |                196 |                  95 |\n",
      "|         4 |         0 |            20 |                146 |                 164 |\n",
      "|         2 |         0 |             4 |                 89 |                 133 |\n",
      "|         1 |         0 |            23 |                255 |                  36 |\n",
      "|         5 |         0 |            10 |                  4 |                  90 |\n",
      "|         6 |         0 |             7 |                209 |                   4 |\n",
      "|         6 |         0 |            20 |                 97 |                  37 |\n",
      "|         6 |         0 |             5 |                 45 |                 261 |\n",
      "|         7 |         0 |            19 |                255 |                  97 |\n",
      "|         7 |         0 |             9 |                255 |                 148 |\n",
      "|         1 |         0 |             7 |                260 |                 129 |\n",
      "|         1 |         0 |             4 |                 40 |                  40 |\n",
      "|         1 |         0 |            40 |                129 |                 229 |\n",
      "|         1 |         0 |            20 |                 97 |                   4 |\n",
      "|         3 |         0 |            15 |                181 |                 107 |\n",
      "|         5 |         0 |             2 |                243 |                 127 |\n",
      "|         1 |         0 |            19 |                  4 |                 164 |\n",
      "|         7 |         0 |            11 |                 33 |                 181 |\n",
      "|         1 |         0 |             4 |                 24 |                 238 |\n",
      "|         2 |         0 |             6 |                226 |                   7 |\n",
      "|         7 |         0 |            13 |                 88 |                  79 |\n",
      "|         5 |         0 |             4 |                 88 |                 231 |\n",
      "|         6 |         0 |             8 |                 74 |                 152 |\n",
      "|         1 |         0 |            10 |                 25 |                 231 |\n",
      "|         7 |         0 |             9 |                 41 |                  75 |\n",
      "|         1 |         0 |             6 |                106 |                  25 |\n",
      "|         2 |         0 |             2 |                 24 |                 166 |\n",
      "|         5 |         0 |            14 |                209 |                 186 |\n",
      "|         7 |         0 |             8 |                 97 |                 148 |\n",
      "|         6 |         0 |            12 |                225 |                 177 |\n",
      "|         2 |         0 |            14 |                116 |                 107 |\n",
      "|         4 |         0 |            33 |                244 |                 132 |\n",
      "|         3 |         0 |            15 |                 74 |                 116 |\n",
      "|         6 |         0 |            15 |                228 |                  14 |\n",
      "|         3 |         0 |             8 |                 89 |                  71 |\n",
      "|         2 |         0 |             9 |                152 |                 239 |\n",
      "|         4 |         0 |             4 |                  4 |                 224 |\n",
      "+-----------+-----------+---------------+--------------------+---------------------+\n"
     ]
    },
    {
     "name": "stderr",
     "output_type": "stream",
     "text": [
      "Waiting on bqjob_r272007d72ed7f4a6_0000016ca475deed_1 ... (49s) Current status: DONE   "
     ]
    }
   ],
   "source": [
    "%%bash\n",
    "\n",
    "bq query \\\n",
    "--destination_table event-driven-ml:new_york_taxi_trips.tlc_yellow_trips_2018_val \\\n",
    "--replace \\\n",
    "--use_legacy_sql=false \\\n",
    "--allow_large_results \\\n",
    "'SELECT dayofweek, hourofday, pickup_borough, dropoff_borough, trip_duration FROM\n",
    "(SELECT\n",
    "    pickup_datetime,\n",
    "    dropoff_datetime,\n",
    "    EXTRACT(DAYOFWEEK FROM pickup_datetime) AS dayofweek,\n",
    "    EXTRACT(HOUR FROM pickup_datetime) AS hourofday,\n",
    "    DATETIME_DIFF(dropoff_datetime, pickup_datetime, MINUTE) AS trip_duration,\n",
    "    passenger_count,\n",
    "    CAST(trip_distance AS FLOAT64) AS trip_distance,\n",
    "    CAST(pickup_location_id AS INT64) AS pickup_location_id,\n",
    "    CAST(dropoff_location_id AS INT64) AS dropoff_location_id,\n",
    "    CAST(rate_code AS INT64) AS rate_code,\n",
    "    CAST(payment_type AS INT64) AS payment_type,\n",
    "    CAST(fare_amount AS FLOAT64) AS fare_amount,\n",
    "    CAST(tolls_amount AS FLOAT64) AS tolls_amount,\n",
    "    CASE WHEN tolls_amount > 0.0 THEN 1.0 ELSE 0.0 END AS flag_tolls,\n",
    "    CAST(total_amount AS FLOAT64) AS total_amount\n",
    "FROM\n",
    "    `bigquery-public-data.new_york_taxi_trips.tlc_yellow_trips_2018`\n",
    "WHERE\n",
    "    trip_distance > 0.0\n",
    "    AND trip_distance < 3000.0\n",
    "    AND fare_amount >= 2.5\n",
    "    AND fare_amount < 6000.0\n",
    "    AND total_amount > 0.0\n",
    "    AND total_amount < 6000.0\n",
    "    AND passenger_count > 0\n",
    "    AND EXTRACT(YEAR from pickup_datetime) = 2018\n",
    "    AND DATETIME_DIFF(dropoff_datetime, pickup_datetime, MINUTE) > 0\n",
    "    AND DATETIME_DIFF(dropoff_datetime, pickup_datetime, MINUTE) < 1440 \n",
    "    AND MOD(ABS(FARM_FINGERPRINT(CAST(pickup_datetime AS STRING))), 10) = 9\n",
    ") AS trips\n",
    "\n",
    "INNER JOIN\n",
    "(SELECT DISTINCT CAST(zone_id AS INT64) AS zone_id, zone_name, borough AS pickup_borough FROM \n",
    " `bigquery-public-data.new_york_taxi_trips.taxi_zone_geom`) AS pu_zones\n",
    "ON trips.pickup_location_id = pu_zones.zone_id\n",
    "\n",
    "INNER JOIN (SELECT DISTINCT CAST(zone_id AS INT64) AS zone_id, zone_name, borough AS dropoff_borough FROM\n",
    " `bigquery-public-data.new_york_taxi_trips.taxi_zone_geom`) AS do_zones\n",
    "ON trips.dropoff_location_id = do_zones.zone_id'"
   ]
  },
  {
   "cell_type": "code",
   "execution_count": 21,
   "metadata": {},
   "outputs": [
    {
     "name": "stdout",
     "output_type": "stream",
     "text": [
      "\n"
     ]
    },
    {
     "name": "stderr",
     "output_type": "stream",
     "text": [
      "Waiting on bqjob_r64d94997d5243573_0000016ca4a9eb33_1 ... (24s) Current status: DONE   "
     ]
    }
   ],
   "source": [
    "%%bash\n",
    "\n",
    "bq extract \\\n",
    "--destination_format CSV \\\n",
    "--compression GZIP \\\n",
    "--field_delimiter ',' \\\n",
    "--print_header=false \\\n",
    "'event-driven-ml:new_york_taxi_trips.tlc_yellow_trips_2018_val' gs://$BUCKET/val/tlc_yellow_trips_2018-000*.csv"
   ]
  },
  {
   "cell_type": "code",
   "execution_count": 5,
   "metadata": {},
   "outputs": [
    {
     "name": "stdout",
     "output_type": "stream",
     "text": [
      "ciao\n"
     ]
    }
   ],
   "source": [
    "print(\"ciao\")"
   ]
  },
  {
   "cell_type": "code",
   "execution_count": null,
   "metadata": {},
   "outputs": [],
   "source": []
  }
 ],
 "metadata": {
  "kernelspec": {
   "display_name": "Python 3",
   "language": "python",
   "name": "python3"
  },
  "language_info": {
   "codemirror_mode": {
    "name": "ipython",
    "version": 3
   },
   "file_extension": ".py",
   "mimetype": "text/x-python",
   "name": "python",
   "nbconvert_exporter": "python",
   "pygments_lexer": "ipython3",
   "version": "3.5.3"
  }
 },
 "nbformat": 4,
 "nbformat_minor": 4
}

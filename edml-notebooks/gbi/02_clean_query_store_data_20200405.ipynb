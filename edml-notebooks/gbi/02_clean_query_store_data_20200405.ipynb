{
 "cells": [
  {
   "cell_type": "markdown",
   "metadata": {},
   "source": [
    "# Read data from bigquery - GIS feature engineering\n",
    "\n",
    "\n",
    "Historic data coming from ...\n",
    "\n",
    "* create query to clean data and keep only columns I need\n",
    "* create bigquery dataset within `event-driven-ml` project"
   ]
  },
  {
   "cell_type": "markdown",
   "metadata": {},
   "source": [
    "### 2019"
   ]
  },
  {
   "cell_type": "code",
   "execution_count": null,
   "metadata": {},
   "outputs": [],
   "source": [
    "%%bash\n",
    "\n",
    "bq query \\\n",
    "--destination_table event-driven-ml:edml_nyc_yellow_taxi_us.gis_feat_eng_2019 \\\n",
    "--location=US \\\n",
    "--replace \\\n",
    "--use_legacy_sql=false \\\n",
    "--allow_large_results \\\n",
    "'SELECT GENERATE_UUID() as uuid, pickup_datetime, dropoff_datetime, dayofweek, hourofday, weekofyear, year, pickup_zone_name, dropoff_zone_name, ROUND(ST_DISTANCE(ST_CENTROID(pu_zone_geom), ST_CENTROID(do_zone_geom))) as distance, passenger_count, trip_duration\n",
    "FROM\n",
    "(SELECT\n",
    "    DATETIME(PARSE_TIMESTAMP(\"%m/%d/%Y %I:%M:%S %p\", tpep_pickup_datetime)) as pickup_datetime,\n",
    "    DATETIME(PARSE_TIMESTAMP(\"%m/%d/%Y %I:%M:%S %p\", tpep_dropoff_datetime)) as dropoff_datetime,\n",
    "    EXTRACT(DAYOFWEEK FROM PARSE_TIMESTAMP(\"%m/%d/%Y %I:%M:%S %p\", tpep_pickup_datetime)) -1 AS dayofweek,\n",
    "    EXTRACT(HOUR FROM PARSE_TIMESTAMP(\"%m/%d/%Y %I:%M:%S %p\", tpep_pickup_datetime)) AS hourofday,\n",
    "    EXTRACT(WEEK FROM PARSE_TIMESTAMP(\"%m/%d/%Y %I:%M:%S %p\", tpep_pickup_datetime)) -1 AS weekofyear,\n",
    "    EXTRACT(YEAR from PARSE_TIMESTAMP(\"%m/%d/%Y %I:%M:%S %p\", tpep_pickup_datetime)) AS year,\n",
    "    DATETIME_DIFF(CAST(PARSE_TIMESTAMP(\"%m/%d/%Y %I:%M:%S %p\", tpep_dropoff_datetime) AS DATETIME), \n",
    "                  CAST(PARSE_TIMESTAMP(\"%m/%d/%Y %I:%M:%S %p\", tpep_pickup_datetime) AS DATETIME), \n",
    "                  MINUTE) AS trip_duration,\n",
    "    passenger_count,\n",
    "    CAST(trip_distance AS FLOAT64) AS trip_distance,\n",
    "    CAST(PULocationID AS INT64) AS pickup_location_id,\n",
    "    CAST(DOLocationID AS INT64) AS dropoff_location_id,\n",
    "FROM `event-driven-ml.edml_nyc_yellow_taxi_us.nyc_yellow_taxi_trips_2019`\n",
    "WHERE\n",
    "    trip_distance > 0.0\n",
    "    AND trip_distance < 3000.0\n",
    "    AND fare_amount >= 2.5\n",
    "    AND fare_amount < 6000.0\n",
    "    AND total_amount > 0.0\n",
    "    AND total_amount < 6000.0\n",
    "    AND passenger_count > 0\n",
    "    AND DATETIME_DIFF(CAST(PARSE_TIMESTAMP(\"%m/%d/%Y %I:%M:%S %p\", tpep_dropoff_datetime) AS DATETIME), \n",
    "                  CAST(PARSE_TIMESTAMP(\"%m/%d/%Y %I:%M:%S %p\", tpep_pickup_datetime) AS DATETIME), \n",
    "                  MINUTE) > 0\n",
    "    AND DATETIME_DIFF(CAST(PARSE_TIMESTAMP(\"%m/%d/%Y %I:%M:%S %p\", tpep_dropoff_datetime) AS DATETIME), \n",
    "                  CAST(PARSE_TIMESTAMP(\"%m/%d/%Y %I:%M:%S %p\", tpep_pickup_datetime) AS DATETIME), \n",
    "                  MINUTE) < 1440\n",
    "    AND EXTRACT(WEEK FROM PARSE_TIMESTAMP(\"%m/%d/%Y %I:%M:%S %p\", tpep_pickup_datetime)) BETWEEN 1 AND 53\n",
    "    AND EXTRACT(WEEK FROM PARSE_TIMESTAMP(\"%m/%d/%Y %I:%M:%S %p\", tpep_dropoff_datetime)) BETWEEN 1 AND 53\n",
    "    AND EXTRACT(YEAR from PARSE_TIMESTAMP(\"%m/%d/%Y %I:%M:%S %p\", tpep_pickup_datetime)) BETWEEN 2018 AND 2019\n",
    "    AND EXTRACT(YEAR from PARSE_TIMESTAMP(\"%m/%d/%Y %I:%M:%S %p\", tpep_dropoff_datetime)) BETWEEN 2019 AND 2020\n",
    ") AS trips\n",
    "\n",
    "INNER JOIN\n",
    "(SELECT CAST(zone_id AS INT64) AS pickup_zone_id, zone_name AS pickup_zone_name, zone_geom AS pu_zone_geom FROM \n",
    " `bigquery-public-data.new_york_taxi_trips.taxi_zone_geom`) AS pu_zones\n",
    "ON trips.pickup_location_id = pu_zones.pickup_zone_id\n",
    "\n",
    "INNER JOIN (SELECT CAST(zone_id AS INT64) AS dropoff_zone_id, zone_name AS dropoff_zone_name, zone_geom AS do_zone_geom FROM\n",
    " `bigquery-public-data.new_york_taxi_trips.taxi_zone_geom`) AS do_zones\n",
    "ON trips.dropoff_location_id = do_zones.dropoff_zone_id'"
   ]
  },
  {
   "cell_type": "markdown",
   "metadata": {},
   "source": [
    "### 2018"
   ]
  },
  {
   "cell_type": "code",
   "execution_count": null,
   "metadata": {},
   "outputs": [],
   "source": [
    "%%bash\n",
    "\n",
    "bq query \\\n",
    "--destination_table event-driven-ml:edml_nyc_yellow_taxi_us.gis_feat_eng_2018 \\\n",
    "--location=US \\\n",
    "--replace \\\n",
    "--use_legacy_sql=false \\\n",
    "--allow_large_results \\\n",
    "'SELECT GENERATE_UUID() as uuid, pickup_datetime, dropoff_datetime, dayofweek, hourofday, weekofyear, year, pickup_zone_name, dropoff_zone_name, ROUND(ST_DISTANCE(ST_CENTROID(pu_zone_geom), ST_CENTROID(do_zone_geom))) as distance, passenger_count, trip_duration\n",
    "FROM\n",
    "(SELECT\n",
    "    DATETIME(PARSE_TIMESTAMP(\"%m/%d/%Y %I:%M:%S %p\", tpep_pickup_datetime)) as pickup_datetime,\n",
    "    DATETIME(PARSE_TIMESTAMP(\"%m/%d/%Y %I:%M:%S %p\", tpep_dropoff_datetime)) as dropoff_datetime,\n",
    "    EXTRACT(DAYOFWEEK FROM PARSE_TIMESTAMP(\"%m/%d/%Y %I:%M:%S %p\", tpep_pickup_datetime)) -1 AS dayofweek,\n",
    "    EXTRACT(HOUR FROM PARSE_TIMESTAMP(\"%m/%d/%Y %I:%M:%S %p\", tpep_pickup_datetime)) AS hourofday,\n",
    "    EXTRACT(WEEK FROM PARSE_TIMESTAMP(\"%m/%d/%Y %I:%M:%S %p\", tpep_pickup_datetime)) -1 AS weekofyear,\n",
    "    EXTRACT(YEAR from PARSE_TIMESTAMP(\"%m/%d/%Y %I:%M:%S %p\", tpep_pickup_datetime)) AS year,\n",
    "    DATETIME_DIFF(CAST(PARSE_TIMESTAMP(\"%m/%d/%Y %I:%M:%S %p\", tpep_dropoff_datetime) AS DATETIME), \n",
    "                  CAST(PARSE_TIMESTAMP(\"%m/%d/%Y %I:%M:%S %p\", tpep_pickup_datetime) AS DATETIME), \n",
    "                  MINUTE) AS trip_duration,\n",
    "    passenger_count,\n",
    "    CAST(trip_distance AS FLOAT64) AS trip_distance,\n",
    "    CAST(PULocationID AS INT64) AS pickup_location_id,\n",
    "    CAST(DOLocationID AS INT64) AS dropoff_location_id,\n",
    "FROM `event-driven-ml.edml_nyc_yellow_taxi_us.nyc_yellow_taxi_trips_2018`\n",
    "WHERE\n",
    "    trip_distance > 0.0\n",
    "    AND trip_distance < 3000.0\n",
    "    AND fare_amount >= 2.5\n",
    "    AND fare_amount < 6000.0\n",
    "    AND total_amount > 0.0\n",
    "    AND total_amount < 6000.0\n",
    "    AND passenger_count > 0\n",
    "    AND DATETIME_DIFF(CAST(PARSE_TIMESTAMP(\"%m/%d/%Y %I:%M:%S %p\", tpep_dropoff_datetime) AS DATETIME), \n",
    "                  CAST(PARSE_TIMESTAMP(\"%m/%d/%Y %I:%M:%S %p\", tpep_pickup_datetime) AS DATETIME), \n",
    "                  MINUTE) > 0\n",
    "    AND DATETIME_DIFF(CAST(PARSE_TIMESTAMP(\"%m/%d/%Y %I:%M:%S %p\", tpep_dropoff_datetime) AS DATETIME), \n",
    "                  CAST(PARSE_TIMESTAMP(\"%m/%d/%Y %I:%M:%S %p\", tpep_pickup_datetime) AS DATETIME), \n",
    "                  MINUTE) < 1440\n",
    "    AND EXTRACT(WEEK FROM PARSE_TIMESTAMP(\"%m/%d/%Y %I:%M:%S %p\", tpep_pickup_datetime)) BETWEEN 1 AND 53\n",
    "    AND EXTRACT(WEEK FROM PARSE_TIMESTAMP(\"%m/%d/%Y %I:%M:%S %p\", tpep_dropoff_datetime)) BETWEEN 1 AND 53\n",
    "    AND EXTRACT(YEAR from PARSE_TIMESTAMP(\"%m/%d/%Y %I:%M:%S %p\", tpep_pickup_datetime)) BETWEEN 2017 AND 2018\n",
    "    AND EXTRACT(YEAR from PARSE_TIMESTAMP(\"%m/%d/%Y %I:%M:%S %p\", tpep_dropoff_datetime)) BETWEEN 2018 AND 2019\n",
    ") AS trips\n",
    "\n",
    "INNER JOIN\n",
    "(SELECT CAST(zone_id AS INT64) AS pickup_zone_id, zone_name AS pickup_zone_name, zone_geom AS pu_zone_geom FROM \n",
    " `bigquery-public-data.new_york_taxi_trips.taxi_zone_geom`) AS pu_zones\n",
    "ON trips.pickup_location_id = pu_zones.pickup_zone_id\n",
    "\n",
    "INNER JOIN (SELECT CAST(zone_id AS INT64) AS dropoff_zone_id, zone_name AS dropoff_zone_name, zone_geom AS do_zone_geom FROM\n",
    " `bigquery-public-data.new_york_taxi_trips.taxi_zone_geom`) AS do_zones\n",
    "ON trips.dropoff_location_id = do_zones.dropoff_zone_id;'"
   ]
  },
  {
   "cell_type": "markdown",
   "metadata": {},
   "source": [
    "### 2017"
   ]
  },
  {
   "cell_type": "code",
   "execution_count": null,
   "metadata": {},
   "outputs": [],
   "source": [
    "%%bash\n",
    "\n",
    "bq query \\\n",
    "--destination_table event-driven-ml:edml_nyc_yellow_taxi_us.gis_feat_eng_2017 \\\n",
    "--location=US \\\n",
    "--replace \\\n",
    "--use_legacy_sql=false \\\n",
    "--allow_large_results \\\n",
    "'SELECT GENERATE_UUID() as uuid, pickup_datetime, dropoff_datetime, dayofweek, hourofday, weekofyear, year, pickup_zone_name, dropoff_zone_name, ROUND(ST_DISTANCE(ST_CENTROID(pu_zone_geom), ST_CENTROID(do_zone_geom))) as distance, passenger_count, trip_duration\n",
    "FROM\n",
    "(SELECT\n",
    "    DATETIME(PARSE_TIMESTAMP(\"%m/%d/%Y %I:%M:%S %p\", tpep_pickup_datetime)) as pickup_datetime,\n",
    "    DATETIME(PARSE_TIMESTAMP(\"%m/%d/%Y %I:%M:%S %p\", tpep_dropoff_datetime)) as dropoff_datetime,\n",
    "    EXTRACT(DAYOFWEEK FROM PARSE_TIMESTAMP(\"%m/%d/%Y %I:%M:%S %p\", tpep_pickup_datetime)) -1 AS dayofweek,\n",
    "    EXTRACT(HOUR FROM PARSE_TIMESTAMP(\"%m/%d/%Y %I:%M:%S %p\", tpep_pickup_datetime)) AS hourofday,\n",
    "    EXTRACT(WEEK FROM PARSE_TIMESTAMP(\"%m/%d/%Y %I:%M:%S %p\", tpep_pickup_datetime)) -1 AS weekofyear,\n",
    "    EXTRACT(YEAR from PARSE_TIMESTAMP(\"%m/%d/%Y %I:%M:%S %p\", tpep_pickup_datetime)) AS year,\n",
    "    DATETIME_DIFF(CAST(PARSE_TIMESTAMP(\"%m/%d/%Y %I:%M:%S %p\", tpep_dropoff_datetime) AS DATETIME), \n",
    "                  CAST(PARSE_TIMESTAMP(\"%m/%d/%Y %I:%M:%S %p\", tpep_pickup_datetime) AS DATETIME), \n",
    "                  MINUTE) AS trip_duration,\n",
    "    passenger_count,\n",
    "    CAST(trip_distance AS FLOAT64) AS trip_distance,\n",
    "    CAST(PULocationID AS INT64) AS pickup_location_id,\n",
    "    CAST(DOLocationID AS INT64) AS dropoff_location_id,\n",
    "FROM `event-driven-ml.edml_nyc_yellow_taxi_us.nyc_yellow_taxi_trips_2017`\n",
    "WHERE\n",
    "    trip_distance > 0.0\n",
    "    AND trip_distance < 3000.0\n",
    "    AND fare_amount >= 2.5\n",
    "    AND fare_amount < 6000.0\n",
    "    AND total_amount > 0.0\n",
    "    AND total_amount < 6000.0\n",
    "    AND passenger_count > 0\n",
    "    AND DATETIME_DIFF(CAST(PARSE_TIMESTAMP(\"%m/%d/%Y %I:%M:%S %p\", tpep_dropoff_datetime) AS DATETIME), \n",
    "                  CAST(PARSE_TIMESTAMP(\"%m/%d/%Y %I:%M:%S %p\", tpep_pickup_datetime) AS DATETIME), \n",
    "                  MINUTE) > 0\n",
    "    AND DATETIME_DIFF(CAST(PARSE_TIMESTAMP(\"%m/%d/%Y %I:%M:%S %p\", tpep_dropoff_datetime) AS DATETIME), \n",
    "                  CAST(PARSE_TIMESTAMP(\"%m/%d/%Y %I:%M:%S %p\", tpep_pickup_datetime) AS DATETIME), \n",
    "                  MINUTE) < 1440\n",
    "    AND EXTRACT(WEEK FROM PARSE_TIMESTAMP(\"%m/%d/%Y %I:%M:%S %p\", tpep_pickup_datetime)) BETWEEN 1 AND 53\n",
    "    AND EXTRACT(WEEK FROM PARSE_TIMESTAMP(\"%m/%d/%Y %I:%M:%S %p\", tpep_dropoff_datetime)) BETWEEN 1 AND 53\n",
    "    AND EXTRACT(YEAR from PARSE_TIMESTAMP(\"%m/%d/%Y %I:%M:%S %p\", tpep_pickup_datetime)) BETWEEN 2016 AND 2017\n",
    "    AND EXTRACT(YEAR from PARSE_TIMESTAMP(\"%m/%d/%Y %I:%M:%S %p\", tpep_dropoff_datetime)) BETWEEN 2017 AND 2018\n",
    ") AS trips\n",
    "\n",
    "INNER JOIN\n",
    "(SELECT CAST(zone_id AS INT64) AS pickup_zone_id, zone_name AS pickup_zone_name, zone_geom AS pu_zone_geom FROM \n",
    " `bigquery-public-data.new_york_taxi_trips.taxi_zone_geom`) AS pu_zones\n",
    "ON trips.pickup_location_id = pu_zones.pickup_zone_id\n",
    "\n",
    "INNER JOIN (SELECT CAST(zone_id AS INT64) AS dropoff_zone_id, zone_name AS dropoff_zone_name, zone_geom AS do_zone_geom FROM\n",
    " `bigquery-public-data.new_york_taxi_trips.taxi_zone_geom`) AS do_zones\n",
    "ON trips.dropoff_location_id = do_zones.dropoff_zone_id'"
   ]
  },
  {
   "cell_type": "markdown",
   "metadata": {},
   "source": [
    "### Union"
   ]
  },
  {
   "cell_type": "markdown",
   "metadata": {},
   "source": [
    "#### Train"
   ]
  },
  {
   "cell_type": "code",
   "execution_count": null,
   "metadata": {},
   "outputs": [],
   "source": [
    "%%bash\n",
    "\n",
    "bq query \\\n",
    "--destination_table event-driven-ml:edml_nyc_yellow_taxi_us.gis_feat_eng_train \\\n",
    "--location=US \\\n",
    "--replace \\\n",
    "--use_legacy_sql=false \\\n",
    "--allow_large_results \\\n",
    "'SELECT * FROM `event-driven-ml.edml_nyc_yellow_taxi_us.gis_feat_eng_2018`\n",
    "    UNION ALL SELECT * FROM `event-driven-ml.edml_nyc_yellow_taxi_us.gis_feat_eng_2017`'"
   ]
  },
  {
   "cell_type": "markdown",
   "metadata": {},
   "source": [
    "#### Test"
   ]
  },
  {
   "cell_type": "code",
   "execution_count": null,
   "metadata": {},
   "outputs": [],
   "source": [
    "%%bash\n",
    "\n",
    "bq query \\\n",
    "--destination_table event-driven-ml:edml_nyc_yellow_taxi_us.gis_feat_eng_test \\\n",
    "--location=US \\\n",
    "--replace \\\n",
    "--use_legacy_sql=false \\\n",
    "--allow_large_results \\\n",
    "'SELECT * FROM `event-driven-ml.edml_nyc_yellow_taxi_us.gis_feat_eng_2019`'"
   ]
  },
  {
   "cell_type": "code",
   "execution_count": null,
   "metadata": {},
   "outputs": [],
   "source": []
  },
  {
   "cell_type": "code",
   "execution_count": null,
   "metadata": {},
   "outputs": [],
   "source": [
    "# %%bash\n",
    "\n",
    "# bq extract \\\n",
    "# --destination_format CSV \\\n",
    "# --compression GZIP \\\n",
    "# --field_delimiter ',' \\\n",
    "# --print_header=false \\\n",
    "# 'event-driven-ml:new_york_taxi_trips.tlc_yellow_trips_2018_test' gs://$BUCKET/test/tlc_yellow_trips_2018-000*.csv"
   ]
  }
 ],
 "metadata": {
  "kernelspec": {
   "display_name": "Python 3",
   "language": "python",
   "name": "python3"
  },
  "language_info": {
   "codemirror_mode": {
    "name": "ipython",
    "version": 3
   },
   "file_extension": ".py",
   "mimetype": "text/x-python",
   "name": "python",
   "nbconvert_exporter": "python",
   "pygments_lexer": "ipython3",
   "version": "3.7.6"
  }
 },
 "nbformat": 4,
 "nbformat_minor": 4
}
